{
 "cells": [
  {
   "cell_type": "code",
   "execution_count": 1,
   "metadata": {},
   "outputs": [],
   "source": [
    "import pandas as pd\n",
    "import geopandas as gpd\n",
    "import maup\n",
    "import time\n",
    "from maup import smart_repair\n",
    "from gerrychain import Graph\n",
    "\n",
    "maup.progress.enabled = True"
   ]
  },
  {
   "cell_type": "code",
   "execution_count": 2,
   "metadata": {},
   "outputs": [],
   "source": [
    "import warnings\n",
    "warnings.filterwarnings(\"ignore\")"
   ]
  },
  {
   "cell_type": "code",
   "execution_count": 3,
   "metadata": {},
   "outputs": [],
   "source": [
    "# state = Nebraska\n",
    "state_ab = \"ne\""
   ]
  },
  {
   "cell_type": "markdown",
   "metadata": {},
   "source": [
    "## Data\n",
    "1. Download all the data in directory \"ne_data\"\n",
    "2. Extract them all"
   ]
  },
  {
   "cell_type": "code",
   "execution_count": 5,
   "metadata": {},
   "outputs": [],
   "source": [
    "data_folder = state_ab + \"_data/\"\n",
    "population1_data = \"./{}{}_pl2020_b/{}_pl2020_p1_b.shp\".format(data_folder, state_ab, state_ab)\n",
    "population2_data = \"./{}{}_pl2020_b/{}_pl2020_p2_b.shp\".format(data_folder, state_ab, state_ab)\n",
    "vap_data =  \"./{}{}_pl2020_b/{}_pl2020_p4_b.shp\".format(data_folder, state_ab, state_ab)\n",
    "vest20_data = \"./{}{}_vest_20/{}_vest_20.shp\".format(data_folder, state_ab, state_ab)\n",
    "vest18_data = \"./{}{}_vest_18/{}_vest_18.shp\".format(data_folder, state_ab, state_ab)\n",
    "vest16_data = \"./{}{}_vest_16/{}_vest_16.shp\".format(data_folder, state_ab, state_ab)\n",
    "cd_data = \"./{}{}_cong_2021/CONG21-39002(1).shp\".format(data_folder, state_ab)\n",
    "legis_data = \"./{}{}_leg_2021/LEG21-39006.shp\".format(data_folder, state_ab)\n",
    "county_data = \"./{}{}_pl2020_cnty/{}_pl2020_cnty.shp\".format(data_folder, state_ab, state_ab)"
   ]
  },
  {
   "cell_type": "code",
   "execution_count": 6,
   "metadata": {},
   "outputs": [],
   "source": [
    "def do_smart_repair(df, min_rook_length = None, snap_precision = 10):\n",
    "    # change it to the UTM it needs for smart_repair\n",
    "    df = df.to_crs(df.estimate_utm_crs())\n",
    "    df = smart_repair(df, min_rook_length = min_rook_length)\n",
    "\n",
    "    if maup.doctor(df) == False:\n",
    "        raise Exception('maup.doctor failed')\n",
    "    \n",
    "    return df"
   ]
  },
  {
   "cell_type": "code",
   "execution_count": 7,
   "metadata": {},
   "outputs": [],
   "source": [
    "def add_district(dist_df, dist_name, election_df, col_name):\n",
    "    election_df = election_df.to_crs(election_df.estimate_utm_crs())\n",
    "    dist_df = dist_df.to_crs(dist_df.estimate_utm_crs())\n",
    "    # check if it needs to be smart_repair\n",
    "    if maup.doctor(dist_df) != True:\n",
    "        dist_df = do_smart_repair(dist_df)\n",
    "\n",
    "    # assign the pricincts\n",
    "    precincts_to_district_assignment = maup.assign(election_df.geometry, dist_df.geometry)\n",
    "    election_df[dist_name] = precincts_to_district_assignment\n",
    "    for precinct_index in range(len(election_df)):\n",
    "        election_df.at[precinct_index, dist_name] = dist_df.at[election_df.at[precinct_index, dist_name], col_name]\n",
    "\n",
    "    return election_df"
   ]
  },
  {
   "cell_type": "code",
   "execution_count": 8,
   "metadata": {},
   "outputs": [],
   "source": [
    "def rename(original, year):\n",
    "    party = original[6]\n",
    "    if party == 'R' or party == 'D':\n",
    "        return original[3:6] + year + original[6]\n",
    "    else:\n",
    "        return original[3:6] + year + 'O'"
   ]
  },
  {
   "cell_type": "code",
   "execution_count": 9,
   "metadata": {},
   "outputs": [],
   "source": [
    "pop_col = ['TOTPOP', 'HISP', 'NH_WHITE', 'NH_BLACK', 'NH_AMIN', 'NH_ASIAN', 'NH_NHPI', 'NH_OTHER', 'NH_2MORE', 'H_WHITE', 'H_BLACK', 'H_AMIN', 'H_ASIAN', 'H_NHPI', 'H_OTHER', 'H_2MORE', 'VAP', 'HVAP', 'WVAP', 'BVAP', 'AMINVAP', 'ASIANVAP', 'NHPIVAP', 'OTHERVAP', '2MOREVAP']"
   ]
  },
  {
   "cell_type": "code",
   "execution_count": 10,
   "metadata": {},
   "outputs": [],
   "source": [
    "def check_population(population, df):\n",
    "    pop_check = pd.DataFrame({\n",
    "        'pop_col': pop_col,\n",
    "        'population_df': population[pop_col].sum(), \n",
    "        'vest_base': df[pop_col].sum(),\n",
    "        'equal': [x == y for x, y in zip(population[pop_col].sum(), df[pop_col].sum())]\n",
    "    })\n",
    "    if pop_check['equal'].mean() < 1:\n",
    "        print(pop_check)\n",
    "        raise Exception(\"population doesn't agree\")\n",
    "\n",
    "    else:\n",
    "        print(\"population agrees\")"
   ]
  },
  {
   "cell_type": "code",
   "execution_count": 11,
   "metadata": {},
   "outputs": [],
   "source": [
    "def add_vest(vest, df, year, population, start_col, snap_precision = 10):\n",
    "    df = df.to_crs(df.estimate_utm_crs())\n",
    "    vest = vest.to_crs(vest.estimate_utm_crs())\n",
    "    population = population.to_crs(population.estimate_utm_crs())\n",
    "    df_crs = df.crs\n",
    "    vest_crs = vest.crs\n",
    "    \n",
    "     # check if it needs to be smart_repair\n",
    "    if maup.doctor(vest) != True:\n",
    "        vest = do_smart_repair(vest, snap_precision = snap_precision)\n",
    "    \n",
    "    # rename the columns\n",
    "    original_col = vest.columns[start_col:-1]\n",
    "    new_col = [rename(i, year) for i in original_col]\n",
    "    rename_dict = dict(zip(original_col, new_col))\n",
    "    vest = vest.rename(columns=rename_dict)\n",
    "    vest = vest.groupby(level=0, axis=1).sum() # combine all the other party's vote into columns with sufix \"O\"\n",
    "    col_name = list(set(new_col))\n",
    "    col_name.sort()\n",
    "    \n",
    "    # make the blocks from precincts by weight\n",
    "    vest = gpd.GeoDataFrame(vest, crs=vest_crs)\n",
    "    election_in_block = population[[\"VAP\", 'geometry']] # population_df is in block scale\n",
    "    blocks_to_precincts_assignment = maup.assign(election_in_block.geometry, vest.geometry)\n",
    "    weights = election_in_block[\"VAP\"] / blocks_to_precincts_assignment.map(election_in_block[\"VAP\"].groupby(blocks_to_precincts_assignment).sum())\n",
    "    weights = weights.fillna(0)\n",
    "    prorated = maup.prorate(blocks_to_precincts_assignment, vest[col_name], weights)\n",
    "    election_in_block[col_name] = prorated\n",
    "    \n",
    "    # assign blocks to precincts\n",
    "    election_in_block = gpd.GeoDataFrame(election_in_block, crs=vest_crs)\n",
    "    df = gpd.GeoDataFrame(df, crs=df_crs)\n",
    "    block_to_pricinct_assginment = maup.assign(election_in_block.geometry, df.geometry)\n",
    "    df[col_name] = election_in_block[col_name].groupby(block_to_pricinct_assginment).sum()\n",
    "    df = df.groupby(level=0, axis=1).sum()\n",
    "    df = gpd.GeoDataFrame(df, crs = df_crs)\n",
    "    # check if population agrees\n",
    "    check_population(population, df)\n",
    "    \n",
    "    return df"
   ]
  },
  {
   "cell_type": "code",
   "execution_count": 12,
   "metadata": {},
   "outputs": [],
   "source": [
    "def add_vest_base(vest, start_col, year, county = None, min_rook_length = None, snap_precision = 10):\n",
    "    vest = vest.to_crs(vest.estimate_utm_crs())\n",
    "    vest_crs = vest.crs\n",
    "    original_col = vest.columns[start_col:-1]\n",
    "    new_col = [rename(i, year) for i in original_col]\n",
    "    rename_dict = dict(zip(original_col, new_col))\n",
    "    vest = vest.rename(columns=rename_dict)\n",
    "    vest = vest.groupby(level=0, axis=1).sum()\n",
    "    vest = gpd.GeoDataFrame(vest, crs=vest_crs)\n",
    "\n",
    "    if county is not None:\n",
    "        county = county.to_crs(county.estimate_utm_crs())\n",
    "        vest = smart_repair(vest, nest_within_regions = county, min_rook_length = min_rook_length, snap_precision = snap_precision) # nest precincts within counties\n",
    "\n",
    "    else:\n",
    "        vest = smart_repair(vest, min_rook_length = min_rook_length, snap_precision = snap_precision) \n",
    "    \n",
    "    return vest"
   ]
  },
  {
   "cell_type": "code",
   "execution_count": 13,
   "metadata": {},
   "outputs": [],
   "source": [
    "def check_small_boundary_lengths(vest_base):\n",
    "    import copy\n",
    "    vest_base = vest_base.to_crs(vest_base.estimate_utm_crs())\n",
    "\n",
    "    boundaries = copy.deepcopy(vest_base)\n",
    "    boundaries[\"geometry\"] = boundaries.geometry.boundary  # get boundaries\n",
    "    neighbors = gpd.sjoin(boundaries, vest_base, predicate=\"intersects\") # find boundaries that intersect\n",
    "    neighbors = neighbors[neighbors.index != neighbors.index_right] # remove boundaries of a region with itself\n",
    "\n",
    "    # compute shared border length using intersection\n",
    "    borders = list(neighbors.apply(\n",
    "        lambda row: row.geometry.intersection(vest_base.loc[row.index_right, \"geometry\"]).length, axis=1\n",
    "    ))\n",
    "\n",
    "    borders.sort()\n",
    "    \n",
    "    return borders"
   ]
  },
  {
   "cell_type": "markdown",
   "metadata": {},
   "source": [
    "### Read the census data"
   ]
  },
  {
   "cell_type": "code",
   "execution_count": 15,
   "metadata": {},
   "outputs": [],
   "source": [
    "population1_df = gpd.read_file(population1_data)\n",
    "population2_df = gpd.read_file(population2_data)\n",
    "vap_df = gpd.read_file(vap_data)\n",
    "county_df = gpd.read_file(county_data)"
   ]
  },
  {
   "cell_type": "code",
   "execution_count": 16,
   "metadata": {},
   "outputs": [],
   "source": [
    "population2_df = population2_df.drop(columns=['SUMLEV', 'LOGRECNO', 'GEOID', 'COUNTY', 'geometry'])\n",
    "vap_df = vap_df.drop(columns=['SUMLEV', 'LOGRECNO', 'GEOID', 'COUNTY', 'geometry'])"
   ]
  },
  {
   "cell_type": "code",
   "execution_count": 17,
   "metadata": {},
   "outputs": [],
   "source": [
    "population_df = pd.merge(population1_df, population2_df, on='GEOID20')\n",
    "population_df = pd.merge(population_df, vap_df, on='GEOID20')\n",
    "population_df = population_df.to_crs(population_df.estimate_utm_crs())"
   ]
  },
  {
   "cell_type": "code",
   "execution_count": 18,
   "metadata": {},
   "outputs": [
    {
     "name": "stderr",
     "output_type": "stream",
     "text": [
      "100%|█████████████████████████████████| 119103/119103 [00:33<00:00, 3602.17it/s]\n"
     ]
    },
    {
     "data": {
      "text/plain": [
       "True"
      ]
     },
     "execution_count": 18,
     "metadata": {},
     "output_type": "execute_result"
    }
   ],
   "source": [
    "maup.doctor(population_df)"
   ]
  },
  {
   "cell_type": "code",
   "execution_count": 19,
   "metadata": {},
   "outputs": [],
   "source": [
    "population_df['H_WHITE'] = population_df.apply(lambda t: t['P0010003'] - t['P0020005'], 1)\n",
    "population_df['H_BLACK'] = population_df.apply(lambda t: t['P0010004'] - t['P0020006'], 1)\n",
    "population_df['H_AMIN'] = population_df.apply(lambda t: t['P0010005'] - t['P0020007'], 1)\n",
    "population_df['H_ASIAN'] = population_df.apply(lambda t: t['P0010006'] - t['P0020008'], 1)\n",
    "population_df['H_NHPI'] = population_df.apply(lambda t: t['P0010007'] - t['P0020009'], 1)\n",
    "population_df['H_OTHER'] = population_df.apply(lambda t: t['P0010008'] - t['P0020010'], 1)\n",
    "population_df['H_2MORE'] = population_df.apply(lambda t: t['P0010009'] - t['P0020011'], 1)"
   ]
  },
  {
   "cell_type": "code",
   "execution_count": 20,
   "metadata": {},
   "outputs": [],
   "source": [
    "rename_dict = {'P0020001': 'TOTPOP', 'P0020002': 'HISP', 'P0020005': 'NH_WHITE', 'P0020006': 'NH_BLACK', 'P0020007': 'NH_AMIN',\n",
    "                    'P0020008': 'NH_ASIAN', 'P0020009': 'NH_NHPI', 'P0020010': 'NH_OTHER', 'P0020011': 'NH_2MORE',\n",
    "                    'P0040001': 'VAP', 'P0040002': 'HVAP', 'P0040005': 'WVAP', 'P0040006': 'BVAP', 'P0040007': 'AMINVAP',\n",
    "                                        'P0040008': 'ASIANVAP', 'P0040009': 'NHPIVAP', 'P0040010': 'OTHERVAP', 'P0040011': '2MOREVAP'}"
   ]
  },
  {
   "cell_type": "code",
   "execution_count": 21,
   "metadata": {},
   "outputs": [],
   "source": [
    "population_df.rename(columns=rename_dict, inplace = True)"
   ]
  },
  {
   "cell_type": "code",
   "execution_count": 22,
   "metadata": {},
   "outputs": [
    {
     "name": "stderr",
     "output_type": "stream",
     "text": [
      "100%|██████████████████████████████████████████| 93/93 [00:00<00:00, 697.33it/s]\n"
     ]
    },
    {
     "data": {
      "text/plain": [
       "True"
      ]
     },
     "execution_count": 22,
     "metadata": {},
     "output_type": "execute_result"
    }
   ],
   "source": [
    "county_df = county_df.to_crs(county_df.estimate_utm_crs())\n",
    "maup.doctor(county_df)"
   ]
  },
  {
   "cell_type": "markdown",
   "metadata": {},
   "source": [
    "## Read the vest 20 data\n",
    "\n",
    "Now using it as a \"base pricinct\""
   ]
  },
  {
   "cell_type": "markdown",
   "metadata": {},
   "source": [
    "## Check if vest20 can be used as base"
   ]
  },
  {
   "cell_type": "code",
   "execution_count": 25,
   "metadata": {},
   "outputs": [],
   "source": [
    "vest20 = gpd.read_file(vest20_data)"
   ]
  },
  {
   "cell_type": "code",
   "execution_count": 26,
   "metadata": {},
   "outputs": [
    {
     "data": {
      "text/plain": [
       "Index(['COUNTY', 'NAME', 'G20PRERTRU', 'G20PREDBID', 'G20PRELJOR',\n",
       "       'G20USSRSAS', 'G20USSDJAN', 'G20USSLSIA', 'geometry'],\n",
       "      dtype='object')"
      ]
     },
     "execution_count": 26,
     "metadata": {},
     "output_type": "execute_result"
    }
   ],
   "source": [
    "vest20.columns"
   ]
  },
  {
   "cell_type": "code",
   "execution_count": 27,
   "metadata": {},
   "outputs": [],
   "source": [
    "start_col = 2\n",
    "vest_base_data = vest20\n",
    "year = '20'"
   ]
  },
  {
   "cell_type": "code",
   "execution_count": 28,
   "metadata": {},
   "outputs": [
    {
     "name": "stderr",
     "output_type": "stream",
     "text": [
      "100%|██████████████████████████████████████████| 93/93 [00:00<00:00, 706.03it/s]\n"
     ]
    },
    {
     "name": "stdout",
     "output_type": "stream",
     "text": [
      "Snapping all geometries to a grid with precision 10^( -5 ) to avoid GEOS errors.\n"
     ]
    },
    {
     "name": "stderr",
     "output_type": "stream",
     "text": [
      "100%|██████████████████████████████████████████| 93/93 [00:00<00:00, 354.48it/s]\n",
      "100%|█████████████████████████████████████████| 93/93 [00:00<00:00, 2314.81it/s]\n"
     ]
    },
    {
     "name": "stdout",
     "output_type": "stream",
     "text": [
      "Identifying overlaps...\n"
     ]
    },
    {
     "name": "stderr",
     "output_type": "stream",
     "text": [
      "100%|█████████████████████████████████████| 3521/3521 [00:00<00:00, 3756.07it/s]\n"
     ]
    },
    {
     "name": "stdout",
     "output_type": "stream",
     "text": [
      "Resolving overlaps and filling gaps...\n"
     ]
    },
    {
     "name": "stderr",
     "output_type": "stream",
     "text": [
      "100%|██████████████████████████████████████████| 93/93 [00:00<00:00, 361.74it/s]\n",
      "100%|█████████████████████████████████████████| 93/93 [00:00<00:00, 2622.67it/s]\n",
      "Gaps to simplify: 0it [00:00, ?it/s]\n",
      "Gaps to fill: 0it [00:00, ?it/s]\n",
      "Gaps to simplify in region 1: 100%|███████████████| 1/1 [00:00<00:00, 54.34it/s]\n",
      "Gaps to fill: 0it [00:00, ?it/s]\n",
      "Gaps to simplify: 0it [00:00, ?it/s]\n",
      "Gaps to fill: 0it [00:00, ?it/s]\n",
      "Gaps to simplify: 0it [00:00, ?it/s]\n",
      "Gaps to fill: 0it [00:00, ?it/s]\n",
      "Gaps to simplify: 0it [00:00, ?it/s]\n",
      "Gaps to fill: 0it [00:00, ?it/s]\n",
      "Gaps to simplify: 0it [00:00, ?it/s]\n",
      "Gaps to fill: 0it [00:00, ?it/s]\n",
      "Gaps to simplify: 0it [00:00, ?it/s]\n",
      "Gaps to fill: 0it [00:00, ?it/s]\n",
      "Gaps to simplify: 0it [00:00, ?it/s]\n",
      "Gaps to fill: 0it [00:00, ?it/s]\n",
      "Gaps to simplify: 0it [00:00, ?it/s]\n",
      "Gaps to fill: 0it [00:00, ?it/s]\n",
      "Gaps to simplify: 0it [00:00, ?it/s]\n",
      "Gaps to fill: 0it [00:00, ?it/s]\n",
      "Gaps to simplify: 0it [00:00, ?it/s]\n",
      "Gaps to fill: 0it [00:00, ?it/s]\n",
      "Gaps to simplify: 0it [00:00, ?it/s]\n",
      "Gaps to fill: 0it [00:00, ?it/s]\n",
      "Gaps to simplify: 0it [00:00, ?it/s]\n",
      "Gaps to fill: 0it [00:00, ?it/s]\n",
      "Gaps to simplify: 0it [00:00, ?it/s]\n",
      "Gaps to fill: 0it [00:00, ?it/s]\n",
      "Gaps to simplify: 0it [00:00, ?it/s]\n",
      "Gaps to fill: 0it [00:00, ?it/s]\n",
      "Gaps to simplify: 0it [00:00, ?it/s]\n",
      "Gaps to fill: 0it [00:00, ?it/s]\n",
      "Gaps to simplify in region 16: 100%|██████████████| 2/2 [00:00<00:00, 90.23it/s]\n",
      "Gaps to fill in region 16: 100%|█████████████████| 1/1 [00:00<00:00, 103.00it/s]\n",
      "Gaps to simplify: 0it [00:00, ?it/s]\n",
      "Gaps to fill: 0it [00:00, ?it/s]\n",
      "Gaps to simplify: 0it [00:00, ?it/s]\n",
      "Gaps to fill: 0it [00:00, ?it/s]\n",
      "Gaps to simplify: 0it [00:00, ?it/s]\n",
      "Gaps to fill: 0it [00:00, ?it/s]\n",
      "Gaps to simplify: 0it [00:00, ?it/s]\n",
      "Gaps to fill: 0it [00:00, ?it/s]\n",
      "Gaps to simplify: 0it [00:00, ?it/s]\n",
      "Gaps to fill: 0it [00:00, ?it/s]\n",
      "Gaps to simplify: 0it [00:00, ?it/s]\n",
      "Gaps to fill: 0it [00:00, ?it/s]\n",
      "Gaps to simplify: 0it [00:00, ?it/s]\n",
      "Gaps to fill: 0it [00:00, ?it/s]\n",
      "Gaps to simplify: 0it [00:00, ?it/s]\n",
      "Gaps to fill: 0it [00:00, ?it/s]\n",
      "Gaps to simplify in region 25: 100%|█████████████| 4/4 [00:00<00:00, 153.13it/s]\n",
      "Gaps to fill: 0it [00:00, ?it/s]\n",
      "Gaps to simplify: 0it [00:00, ?it/s]\n",
      "Gaps to fill: 0it [00:00, ?it/s]\n",
      "Gaps to simplify: 0it [00:00, ?it/s]\n",
      "Gaps to fill: 0it [00:00, ?it/s]\n",
      "Gaps to simplify: 0it [00:00, ?it/s]\n",
      "Gaps to fill: 0it [00:00, ?it/s]\n",
      "Gaps to simplify in region 29: 100%|█████████████| 1/1 [00:00<00:00, 143.47it/s]\n",
      "Gaps to fill: 0it [00:00, ?it/s]\n",
      "Gaps to simplify: 0it [00:00, ?it/s]\n",
      "Gaps to fill: 0it [00:00, ?it/s]\n",
      "Gaps to simplify: 0it [00:00, ?it/s]\n",
      "Gaps to fill: 0it [00:00, ?it/s]\n",
      "Gaps to simplify: 0it [00:00, ?it/s]\n",
      "Gaps to fill: 0it [00:00, ?it/s]\n",
      "Gaps to simplify in region 33: 100%|██████████████| 2/2 [00:00<00:00, 63.86it/s]\n",
      "Gaps to fill in region 33: 100%|██████████████████| 1/1 [00:00<00:00, 73.58it/s]\n",
      "Gaps to simplify: 0it [00:00, ?it/s]\n",
      "Gaps to fill: 0it [00:00, ?it/s]\n",
      "Gaps to simplify: 0it [00:00, ?it/s]\n",
      "Gaps to fill: 0it [00:00, ?it/s]\n",
      "Gaps to simplify: 0it [00:00, ?it/s]\n",
      "Gaps to fill: 0it [00:00, ?it/s]\n",
      "Gaps to simplify: 0it [00:00, ?it/s]\n",
      "Gaps to fill: 0it [00:00, ?it/s]\n",
      "Gaps to simplify: 0it [00:00, ?it/s]\n",
      "Gaps to fill: 0it [00:00, ?it/s]\n",
      "Gaps to simplify: 0it [00:00, ?it/s]\n",
      "Gaps to fill: 0it [00:00, ?it/s]\n",
      "Gaps to simplify: 0it [00:00, ?it/s]\n",
      "Gaps to fill: 0it [00:00, ?it/s]\n",
      "Gaps to simplify: 0it [00:00, ?it/s]\n",
      "Gaps to fill: 0it [00:00, ?it/s]\n",
      "Gaps to simplify: 0it [00:00, ?it/s]\n",
      "Gaps to fill: 0it [00:00, ?it/s]\n",
      "Gaps to simplify: 0it [00:00, ?it/s]\n",
      "Gaps to fill: 0it [00:00, ?it/s]\n",
      "Gaps to simplify: 0it [00:00, ?it/s]\n",
      "Gaps to fill: 0it [00:00, ?it/s]\n",
      "Gaps to simplify: 0it [00:00, ?it/s]\n",
      "Gaps to fill: 0it [00:00, ?it/s]\n",
      "Gaps to simplify: 0it [00:00, ?it/s]\n",
      "Gaps to fill: 0it [00:00, ?it/s]\n",
      "Gaps to simplify in region 47: 100%|██████████| 170/170 [00:02<00:00, 84.54it/s]\n",
      "Gaps to fill in region 47: 100%|████████████████| 59/59 [00:01<00:00, 49.46it/s]\n",
      "Gaps to simplify in region 48: 100%|██████████████| 1/1 [00:00<00:00, 89.54it/s]\n",
      "Gaps to fill: 0it [00:00, ?it/s]\n",
      "Gaps to simplify: 0it [00:00, ?it/s]\n",
      "Gaps to fill: 0it [00:00, ?it/s]\n",
      "Gaps to simplify: 0it [00:00, ?it/s]\n",
      "Gaps to fill: 0it [00:00, ?it/s]\n",
      "Gaps to simplify: 0it [00:00, ?it/s]\n",
      "Gaps to fill: 0it [00:00, ?it/s]\n",
      "Gaps to simplify in region 52: 100%|██████████████| 3/3 [00:00<00:00, 84.25it/s]\n",
      "Gaps to fill in region 52: 100%|██████████████████| 2/2 [00:00<00:00, 38.13it/s]\n",
      "Gaps to simplify: 0it [00:00, ?it/s]\n",
      "Gaps to fill: 0it [00:00, ?it/s]\n",
      "Gaps to simplify: 0it [00:00, ?it/s]\n",
      "Gaps to fill: 0it [00:00, ?it/s]\n",
      "Gaps to simplify: 0it [00:00, ?it/s]\n",
      "Gaps to fill: 0it [00:00, ?it/s]\n",
      "Gaps to simplify: 0it [00:00, ?it/s]\n",
      "Gaps to fill: 0it [00:00, ?it/s]\n",
      "Gaps to simplify: 0it [00:00, ?it/s]\n",
      "Gaps to fill: 0it [00:00, ?it/s]\n",
      "Gaps to simplify: 0it [00:00, ?it/s]\n",
      "Gaps to fill: 0it [00:00, ?it/s]\n",
      "Gaps to simplify: 0it [00:00, ?it/s]\n",
      "Gaps to fill: 0it [00:00, ?it/s]\n",
      "Gaps to simplify: 0it [00:00, ?it/s]\n",
      "Gaps to fill: 0it [00:00, ?it/s]\n",
      "Gaps to simplify: 0it [00:00, ?it/s]\n",
      "Gaps to fill: 0it [00:00, ?it/s]\n",
      "Gaps to simplify: 0it [00:00, ?it/s]\n",
      "Gaps to fill: 0it [00:00, ?it/s]\n",
      "Gaps to simplify in region 63: 100%|██████████████| 2/2 [00:00<00:00, 57.52it/s]\n",
      "Gaps to fill in region 63: 100%|██████████████████| 1/1 [00:00<00:00, 57.54it/s]\n",
      "Gaps to simplify in region 64: 100%|████████████| 47/47 [00:00<00:00, 81.19it/s]\n",
      "Gaps to fill in region 64: 100%|██████████████████| 3/3 [00:00<00:00, 37.96it/s]\n",
      "Gaps to simplify: 0it [00:00, ?it/s]\n",
      "Gaps to fill: 0it [00:00, ?it/s]\n",
      "Gaps to simplify: 0it [00:00, ?it/s]\n",
      "Gaps to fill: 0it [00:00, ?it/s]\n",
      "Gaps to simplify: 0it [00:00, ?it/s]\n",
      "Gaps to fill: 0it [00:00, ?it/s]\n",
      "Gaps to simplify: 0it [00:00, ?it/s]\n",
      "Gaps to fill: 0it [00:00, ?it/s]\n",
      "Gaps to simplify: 0it [00:00, ?it/s]\n",
      "Gaps to fill: 0it [00:00, ?it/s]\n",
      "Gaps to simplify in region 70: 100%|██████████████| 1/1 [00:00<00:00, 96.29it/s]\n",
      "Gaps to fill: 0it [00:00, ?it/s]\n",
      "Gaps to simplify in region 71: 100%|███████████| 15/15 [00:00<00:00, 127.45it/s]\n",
      "Gaps to fill in region 71: 100%|█████████████████| 3/3 [00:00<00:00, 100.75it/s]\n",
      "Gaps to simplify: 0it [00:00, ?it/s]\n",
      "Gaps to fill: 0it [00:00, ?it/s]\n",
      "Gaps to simplify: 0it [00:00, ?it/s]\n",
      "Gaps to fill: 0it [00:00, ?it/s]\n",
      "Gaps to simplify: 0it [00:00, ?it/s]\n",
      "Gaps to fill: 0it [00:00, ?it/s]\n",
      "Gaps to simplify: 0it [00:00, ?it/s]\n",
      "Gaps to fill: 0it [00:00, ?it/s]\n",
      "Gaps to simplify in region 76: 100%|██████████| 734/734 [00:08<00:00, 84.83it/s]\n",
      "Gaps to fill in region 76: 100%|████████████████| 94/94 [00:02<00:00, 33.77it/s]\n",
      "Gaps to simplify: 0it [00:00, ?it/s]\n",
      "Gaps to fill: 0it [00:00, ?it/s]\n",
      "Gaps to simplify in region 78: 100%|██████████████| 1/1 [00:00<00:00, 99.50it/s]\n",
      "Gaps to fill: 0it [00:00, ?it/s]\n",
      "Gaps to simplify: 0it [00:00, ?it/s]\n",
      "Gaps to fill: 0it [00:00, ?it/s]\n",
      "Gaps to simplify: 0it [00:00, ?it/s]\n",
      "Gaps to fill: 0it [00:00, ?it/s]\n",
      "Gaps to simplify: 0it [00:00, ?it/s]\n",
      "Gaps to fill: 0it [00:00, ?it/s]\n",
      "Gaps to simplify: 0it [00:00, ?it/s]\n",
      "Gaps to fill: 0it [00:00, ?it/s]\n",
      "Gaps to simplify: 0it [00:00, ?it/s]\n",
      "Gaps to fill: 0it [00:00, ?it/s]\n",
      "Gaps to simplify: 0it [00:00, ?it/s]\n",
      "Gaps to fill: 0it [00:00, ?it/s]\n",
      "Gaps to simplify: 0it [00:00, ?it/s]\n",
      "Gaps to fill: 0it [00:00, ?it/s]\n",
      "Gaps to simplify: 0it [00:00, ?it/s]\n",
      "Gaps to fill: 0it [00:00, ?it/s]\n",
      "Gaps to simplify: 0it [00:00, ?it/s]\n",
      "Gaps to fill: 0it [00:00, ?it/s]\n",
      "Gaps to simplify: 0it [00:00, ?it/s]\n",
      "Gaps to fill: 0it [00:00, ?it/s]\n",
      "Gaps to simplify: 0it [00:00, ?it/s]\n",
      "Gaps to fill: 0it [00:00, ?it/s]\n",
      "Gaps to simplify: 0it [00:00, ?it/s]\n",
      "Gaps to fill: 0it [00:00, ?it/s]\n",
      "Gaps to simplify: 0it [00:00, ?it/s]\n",
      "Gaps to fill: 0it [00:00, ?it/s]\n",
      "Gaps to simplify: 0it [00:00, ?it/s]\n",
      "Gaps to fill: 0it [00:00, ?it/s]\n"
     ]
    }
   ],
   "source": [
    "vest_base = add_vest_base(vest_base_data, start_col, year, county = county_df)"
   ]
  },
  {
   "cell_type": "code",
   "execution_count": 29,
   "metadata": {},
   "outputs": [
    {
     "name": "stdout",
     "output_type": "stream",
     "text": [
      "[1184.1272547235833, 1184.1272547235835, 1185.1136103121562, 1185.1136103121562, 1186.9327604233779, 1186.932760423378, 1187.7515013105733, 1187.7515013105733, 1189.550543051969, 1189.5505430519693, 1189.551493121511, 1189.5514931215114, 1191.4081842217527, 1191.4081842217531, 1191.5444020947132, 1191.5444020947132, 1191.9244674698896, 1191.9244674698896, 1192.3520857678761, 1192.3520857678761, 1192.3610006770523, 1192.3610006770523, 1192.4577529286178, 1192.457752928618, 1195.1945848410803, 1195.1945848410803, 1195.2325472776727, 1195.2325472776727, 1195.7536175065482, 1195.7536175065482, 1196.2356741354865, 1196.2356741354868, 1197.3888601369786, 1197.3888601369788, 1198.602962223727, 1198.602962223727, 1199.0851896185568, 1199.0851896185575, 1199.8112886663657, 1199.8112886663657, 1200.999318440231, 1200.999318440231, 1202.6772944164316, 1202.6772944164318, 1204.03195553389, 1204.03195553389, 1204.527444482498, 1204.527444482498, 1205.6675265502054, 1205.6675265502058, 1206.4543915362856, 1206.4543915362856, 1206.8228263297137, 1206.822826329714, 1207.1148601815482, 1207.1148601815482, 1207.1742743085472, 1207.1742743085472, 1207.8671160095162, 1207.8671160095162, 1208.4529554784904, 1208.4529554784904, 1209.3094236721606, 1209.3094236721608, 1209.3497799383292, 1209.3497799383292, 1210.3927992191739, 1210.3927992191739, 1210.7785561607816, 1210.7785561607818, 1210.7992102631513, 1210.7992102631513, 1210.9000927530085, 1210.9000927530087, 1210.9624635397936, 1210.9624635397936, 1211.2537017603324, 1211.2537017603327, 1212.4098275569145, 1212.409827556915, 1214.9501695067063, 1214.9501695067065, 1216.9234163292444, 1216.9234163292447, 1219.0242223471225, 1219.0242223471225, 1222.8181722739241, 1222.8181722739246, 1223.4897618278221, 1223.4897618278223, 1223.6141953643405, 1223.614195364341, 1224.1630018056708, 1224.1630018056708, 1224.418525918795, 1224.4185259187952, 1224.8587095172686, 1224.8587095172688, 1225.4699866401336, 1225.4699866401338, 1226.3859085986592, 1226.3859085986596, 1226.6866848000577, 1226.6866848000577, 1227.5941125398044, 1227.5941125398044, 1227.9256594204792, 1227.9256594204794, 1232.9630386401457, 1232.9630386401461, 1235.5156482147777, 1235.515648214778, 1235.7722471489958, 1235.7722471489958, 1237.119708571864, 1237.1197085718643, 1237.563642690643, 1237.5636426906435, 1240.049958532806, 1240.0499585328062, 1240.0958554899032, 1240.0958554899034, 1240.1518858083696, 1240.1518858083698, 1240.4912352025067, 1240.491235202507, 1244.6444933091561, 1244.6444933091561, 1246.1972585359213, 1246.1972585359213, 1246.9485798146718, 1246.948579814672, 1251.9874521857923, 1251.9874521857923, 1253.76791681386, 1253.7679168138607, 1254.4013148161919, 1254.401314816192, 1255.232077474684, 1255.232077474684, 1257.1953979011219, 1257.195397901122, 1257.289617240486, 1257.2896172404865, 1259.3048717997674, 1259.3048717997674, 1259.5925615605902, 1259.5925615605904, 1260.2101509442723, 1260.2101509442723, 1264.1956276278665, 1264.1956276278665, 1264.5877235737858, 1264.5877235737858, 1266.6801343040456, 1266.6801343040459, 1273.7079421963306, 1273.7079421963308, 1278.6769019165597, 1278.67690191656, 1283.0480700830644, 1283.0480700830647, 1283.429995828448, 1283.4299958284482, 1284.662579991264, 1284.6625799912642, 1287.2235015686988, 1287.2235015686988, 1288.6177671948517, 1288.6177671948521, 1289.4979312348594, 1289.4979312348594, 1292.2345891931186, 1292.2345891931186, 1293.4382379599774, 1293.4382379599779, 1294.3109940577194, 1294.3109940577197, 1295.0220365448768, 1295.0220365448768, 1299.1326968891256, 1299.1326968891258, 1299.746052968274, 1299.7460529682742, 1300.472949342886, 1300.4729493428863, 1301.3883789596107, 1301.388378959611, 1305.9645006033463, 1305.9645006033468, 1306.5390847987103, 1306.5390847987103, 1308.4826173294668, 1308.4826173294673, 1309.664635970632, 1309.6646359706328, 1312.751836816253, 1312.7518368162532, 1313.7147513692375, 1313.714751369238, 1316.4185919189442, 1316.4185919189445, 1317.769434194232, 1317.769434194232, 1318.5997389179734, 1318.5997389179738, 1319.6140773410234, 1319.6140773410234, 1321.9559353668574, 1321.9559353668574, 1322.4387581208834, 1322.4387581208837, 1322.653516702388, 1322.653516702388, 1323.0890028961983, 1323.0890028961983, 1323.824304132865, 1323.824304132865, 1324.1777953541007, 1324.1777953541007, 1326.6154843891354, 1326.6154843891359, 1327.5562747700494, 1327.5562747700494, 1329.8035538407692, 1329.8035538407694, 1332.710650177307, 1332.710650177307, 1339.119040613024, 1339.119040613024, 1340.632823843306, 1340.632823843306, 1343.8182818570851, 1343.8182818570854, 1346.5260585166372, 1346.5260585166375, 1350.461609660072, 1350.4616096600726, 1355.1958868634078, 1355.1958868634078, 1355.5079834115868, 1355.5079834115872, 1357.2808953868139, 1357.2808953868146, 1362.831715869336, 1362.8317158693364, 1364.5922064838746, 1364.5922064838749, 1366.190264799551, 1366.190264799551, 1366.298110369535, 1366.2981103695354, 1368.5499609133062, 1368.5499609133062, 1368.792077229745, 1368.792077229745, 1369.1727597403049, 1369.1727597403049, 1371.872214403783, 1371.872214403783, 1389.835004424408, 1389.835004424408, 1391.8871324370175, 1391.8871324370189, 1396.416734565145, 1396.4167345651454, 1397.208635410035, 1397.208635410035, 1397.660761684771, 1397.660761684771, 1398.3893181284113, 1398.3893181284118, 1402.0121243677024, 1402.0121243677027, 1403.6322627820352, 1403.6322627820352, 1404.53318624624, 1404.53318624624, 1404.7369337371497, 1404.7369337371501, 1406.3365408520133, 1406.3365408520133, 1406.4991871483876, 1406.4991871483878, 1407.2339525181228, 1407.2339525181228, 1409.731598857437, 1409.7315988574371, 1411.3494346482873, 1411.3494346482878, 1413.5457192462466, 1413.5457192462466, 1414.338704471765, 1414.3387044717651, 1418.4366665640966, 1418.4366665640969, 1419.654086404802, 1419.6540864048025, 1421.2033005790784, 1421.2033005790784, 1423.529490161443, 1423.529490161443, 1425.823276065237, 1425.823276065237, 1426.109522465311, 1426.109522465311, 1426.7600733102354, 1426.7600733102356, 1426.9973771455102, 1426.9973771455104, 1427.7060331471628, 1427.7060331471628, 1427.8135367688133, 1427.8135367688135, 1428.4673142238073, 1428.4673142238075, 1429.2729059119063, 1429.2729059119065, 1429.6049571349727, 1429.6049571349727, 1433.3324605254354, 1433.3324605254354, 1438.5651225276208, 1438.5651225276208, 1439.31527709186, 1439.31527709186, 1441.2449647064398, 1441.24496470644, 1445.395126201207, 1445.3951262012074, 1450.1339426615434, 1450.1339426615434, 1450.7248410554766, 1450.7248410554766, 1451.894702928129, 1451.894702928129, 1453.1018336201466, 1453.101833620147, 1455.1254622083648, 1455.125462208365, 1455.5974370330716, 1455.5974370330719, 1460.1227587906048, 1460.122758790605, 1463.7512653907243, 1463.7512653907247, 1464.774443236877, 1464.7744432368772, 1464.792564712926, 1464.792564712926, 1465.8735478942433, 1465.8735478942435, 1467.3898481469005, 1467.3898481469007, 1467.402946932337, 1467.4029469323375, 1470.2134996182144, 1470.2134996182144, 1471.3545737054462, 1471.3545737054467, 1472.0672409137292, 1472.0672409137298, 1474.1313314689037, 1474.1313314689041, 1474.9376282928445, 1474.9376282928447, 1475.1655084465167, 1475.165508446517, 1478.3746527817527, 1478.3746527817527, 1480.716472005178, 1480.716472005178, 1482.993107504182, 1482.9931075041823, 1484.078895807763, 1484.0788958077633, 1489.9166897059843, 1489.9166897059845, 1492.3779449905817, 1492.377944990582, 1493.122670306967, 1493.122670306967, 1497.5220095339332, 1497.5220095339337, 1497.7192662024618, 1497.7192662024618, 1497.755255961043, 1497.7552559610433, 1498.797812918066, 1498.7978129180663, 1501.4101382718127, 1501.4101382718127, 1502.1374815391455, 1502.1374815391457, 1503.0100115672055, 1503.0100115672055, 1503.8538467045137, 1503.8538467045141, 1507.2185822175475, 1507.2185822175484, 1507.8063775079963, 1507.8063775079968, 1510.2011557695112, 1510.2011557695116, 1514.4666334717906, 1514.4666334717906, 1514.7872137845802, 1514.7872137845802, 1518.542651579583, 1518.5426515795837, 1519.0898979685242, 1519.0898979685244, 1520.074925350957, 1520.0749253509573, 1520.9532575293083, 1520.9532575293085, 1521.3384872633526, 1521.3384872633526, 1521.7299394625659, 1521.7299394625666, 1522.1468446157655, 1522.146844615766, 1522.2836334648186, 1522.2836334648186, 1522.6940409394551, 1522.6940409394558, 1523.1598089751838, 1523.1598089751844, 1524.0220072287125, 1524.0220072287125, 1526.4939850198891, 1526.4939850198896, 1531.4984567650833, 1531.4984567650833, 1532.3102679613203, 1532.3102679613203, 1532.7615701418756, 1532.7615701418758, 1534.1399595146604, 1534.1399595146606, 1534.826060643251, 1534.8260606432511, 1535.2707179326055, 1535.2707179326057, 1536.320211705534, 1536.320211705534, 1542.9853728191588, 1542.9853728191588, 1544.7229829331584, 1544.7229829331588, 1545.172716897133, 1545.1727168971331, 1546.4292219411004, 1546.4292219411004, 1547.899688219123, 1547.8996882191234, 1554.3729689950333, 1554.3729689950333, 1555.1545095189595, 1555.15450951896, 1556.0531499595984, 1556.0531499595986, 1556.8039197229855, 1556.8039197229857, 1557.9537842350796, 1557.9537842350803, 1560.117312044424, 1560.117312044424, 1560.1638174835107, 1560.1638174835111, 1561.0788146533391, 1561.0788146533396, 1563.4932947310494, 1563.4932947310494, 1564.6539585481094, 1564.6539585481096, 1565.2870704137501, 1565.287070413751, 1566.604838986567, 1566.6048389865673, 1573.6118554684722, 1573.6118554684722, 1573.7207723101776, 1573.7207723101776, 1574.2909975579034, 1574.2909975579034, 1576.754935046911, 1576.7549350469112, 1576.9747936511533, 1576.9747936511537, 1577.5450880705273, 1577.5450880705275, 1577.9988452507391, 1577.9988452507398, 1578.863727280325, 1578.8637272803253, 1581.7540949134006, 1581.7540949134009, 1585.1596181536172, 1585.1596181536177, 1585.3176881091767, 1585.317688109177, 1585.4384072882197, 1585.43840728822, 1586.1087623174014, 1586.1087623174017, 1586.7483822212905, 1586.7483822212905, 1586.9525376005197, 1586.9525376005197, 1588.221124745828, 1588.2211247458285, 1589.2505373780407, 1589.2505373780407, 1589.7968089664266, 1589.7968089664269, 1590.0831394329655, 1590.0831394329655, 1590.440312246724, 1590.4403122467243, 1591.149175174248, 1591.149175174248, 1591.890029120806, 1591.8900291208072, 1592.0127059860092, 1592.0127059860095, 1594.6591980019964, 1594.6591980019964, 1596.3135520999756, 1596.3135520999756, 1596.3154564959143, 1596.3154564959143, 1596.5720768986898, 1596.5720768986903, 1598.8734654594296, 1598.8734654594296, 1598.9765976230158, 1598.9765976230158, 1599.5058868074548, 1599.5058868074548, 1599.8564456329718, 1599.8564456329718, 1600.0536655608475, 1600.0536655608475, 1600.612784764331, 1600.612784764332, 1601.901031047278, 1601.9010310472781, 1602.2653013476213, 1602.265301347622, 1602.8246715548398, 1602.8246715548403, 1602.935156179289, 1602.9351561792892, 1603.3133892768717, 1603.3133892768717, 1603.739950016114, 1603.739950016114, 1603.7547283952406, 1603.7547283952406, 1603.8980176456039, 1603.8980176456043, 1604.9978663927745, 1604.9978663927745, 1605.3237787742844, 1605.3237787742844, 1605.4982810862978, 1605.4982810862978, 1606.2724928260504, 1606.2724928260507, 1606.3528996089733, 1606.3528996089733, 1606.6592282452739, 1606.6592282452739, 1607.1686422756472, 1607.168642275648, 1607.585843188656, 1607.5858431886563, 1608.1660170485832, 1608.1660170485834, 1609.4494797609082, 1609.44947976091, 1609.568193434067, 1609.5681934340673, 1609.6378361833874, 1609.6378361833877, 1609.8882244678462, 1609.8882244678464, 1609.9937286357303, 1609.9937286357303, 1610.1165104720312, 1610.1165104720312, 1610.203501485688, 1610.2035014856883, 1610.4464418878392, 1610.4464418878392, 1610.5623553620874, 1610.5623553620874, 1610.6436242700938, 1610.643624270094, 1611.1677812735245, 1611.1677812735245, 1611.6706319491695, 1611.6706319491695, 1611.883208805352, 1611.883208805352, 1612.17935899108, 1612.1793589910806, 1612.350762836188, 1612.3507628361883, 1612.9515910847822, 1612.9515910847824, 1613.008856137448, 1613.008856137449, 1613.1089309665526, 1613.1089309665529, 1613.3552411491771, 1613.3552411491773, 1613.4075349978439, 1613.407534997844, 1613.5340654061931, 1613.5340654061931, 1613.7866463121243, 1613.7866463121243, 1614.2024516173074, 1614.2024516173074, 1614.495637982003, 1614.4956379820035, 1614.4968600912348, 1614.4968600912348, 1614.5079500800891, 1614.5079500800891, 1614.7287806809145, 1614.7287806809152, 1615.0181524761838, 1615.0181524761838, 1615.0438289377112, 1615.0438289377112, 1615.2299798491508, 1615.2299798491508, 1615.7513261817953, 1615.7513261817955, 1616.5411498526762, 1616.5411498526764, 1616.5666873817102, 1616.5666873817106, 1616.7038279214364, 1616.7038279214364, 1616.7207127639178, 1616.7207127639185, 1617.0375203053875, 1617.0375203053882, 1617.1109068429164, 1617.1109068429166, 1617.1139928053337, 1617.1139928053346, 1617.4872254886088, 1617.4872254886093, 1617.717647616584, 1617.7176476165844, 1617.7915504586877, 1617.7915504586877, 1617.888604856949, 1617.8886048569493, 1618.4769442904876, 1618.4769442904876, 1619.310811913067, 1619.3108119130673, 1620.0444192689554, 1620.0444192689554, 1620.147985593623, 1620.1479855936232, 1621.6476889617338, 1621.6476889617343, 1621.6522622199013, 1621.6522622199016, 1621.686451663323, 1621.6864516633232, 1622.3079491175256, 1622.3079491175256, 1624.831765833759, 1624.831765833759, 1625.004236222005, 1625.0042362220051, 1626.1952762091953, 1626.1952762091953, 1627.6002975663023, 1627.6002975663027, 1627.8818840484355, 1627.8818840484357, 1628.2684679372287, 1628.2684679372287, 1628.9376241769783, 1628.9376241769785, 1631.7417812708136, 1631.7417812708136, 1633.5295859134014, 1633.5295859134017, 1633.572117294901, 1633.572117294901, 1634.7715050324643, 1634.7715050324646, 1634.871732897659, 1634.8717328976593, 1636.5789810476977, 1636.578981047698, 1637.4103355515772, 1637.4103355515772, 1638.6338872201777, 1638.633887220178, 1639.1692897076946, 1639.1692897076948, 1639.6437671066587, 1639.6437671066594, 1641.0946024458824, 1641.0946024458829, 1641.3861240468332, 1641.3861240468332, 1641.891970314714, 1641.8919703147146, 1643.1306272938516, 1643.1306272938518, 1643.695363467164, 1643.6953634671645, 1645.976594139353, 1645.9765941393532, 1647.0418861256876, 1647.0418861256876, 1647.6964156233782, 1647.6964156233785, 1647.968849134197, 1647.968849134197, 1651.3775831746111, 1651.3775831746116, 1651.8084440302016, 1651.8084440302018, 1652.9763749943609, 1652.9763749943609, 1654.265535147154, 1654.2655351471542, 1655.758784000982, 1655.7587840009826, 1656.0273562787274, 1656.0273562787274, 1656.7013706465905, 1656.7013706465907, 1657.1703092028915, 1657.170309202892, 1657.3452768664652, 1657.3452768664652, 1657.7150610719486, 1657.7150610719489, 1658.0634408010274, 1658.0634408010278, 1659.580175675153, 1659.5801756751532, 1661.9739438496015, 1661.9739438496017, 1663.6503403332385, 1663.6503403332392, 1664.0881346232663, 1664.0881346232668, 1664.878129800969, 1664.8781298009692, 1667.498771553156, 1667.4987715531563, 1667.5078744344937, 1667.5078744344942, 1670.370941121461, 1670.3709411214616, 1673.5272936083275, 1673.5272936083277, 1674.695450522991, 1674.695450522991, 1678.90601682638, 1678.9060168263807, 1679.4274704842815, 1679.4274704842817, 1679.8078747416648, 1679.807874741665, 1680.2451961747327, 1680.2451961747342, 1682.4878899901535, 1682.4878899901537, 1684.3479218449002, 1684.3479218449002, 1684.6715664245246, 1684.6715664245246, 1686.2019272039056, 1686.201927203906, 1686.4802759614056, 1686.480275961406, 1687.0349302789252, 1687.0349302789255, 1687.5571397454057, 1687.5571397454057, 1692.621523093146, 1692.6215230931462, 1694.602285936802, 1694.6022859368022, 1695.7141754818422, 1695.7141754818422, 1698.0560622553824, 1698.056062255383, 1704.9110697767726, 1704.9110697767728, 1705.1159766887877, 1705.1159766887881, 1705.4029759335865, 1705.4029759335865, 1705.5621074687658, 1705.562107468766, 1705.9377910558885, 1705.9377910558885, 1711.4144951337112, 1711.4144951337114, 1715.517163764837, 1715.5171637648373, 1715.9047816846564, 1715.9047816846569, 1716.9406831427477, 1716.9406831427477, 1718.468437613804, 1718.468437613804, 1719.4871601737618, 1719.4871601737618, 1719.5969553357418, 1719.5969553357422, 1723.544939168105, 1723.5449391681052, 1725.5536145370736, 1725.5536145370738, 1728.4738100000136, 1728.4738100000136, 1729.1708529351965, 1729.170852935197, 1730.8362956500082, 1730.8362956500084, 1733.312565944815, 1733.3125659448162, 1733.5885108910873, 1733.5885108910877, 1745.5299237408221, 1745.5299237408221, 1753.8027396081054, 1753.8027396081054, 1761.5671253701703, 1761.567125370171, 1762.9862481819684, 1762.9862481819684, 1769.479457577952, 1769.479457577952, 1773.0377158807028, 1773.037715880703, 1773.8769143046397, 1773.87691430464, 1774.619574254175, 1774.6195742541752, 1774.6600541662974, 1774.6600541662976, 1775.8860890698238, 1775.886089069824, 1776.0145640571736, 1776.014564057174, 1778.5137898612777, 1778.513789861278, 1778.6583947856536, 1778.6583947856539, 1783.0043077034484, 1783.0043077034484, 1786.7374242308842, 1786.7374242308842, 1788.9866990614241, 1788.986699061425, 1791.1695265495266, 1791.169526549527, 1793.06584450775, 1793.06584450775, 1794.1255609839689, 1794.1255609839689, 1795.1755478522455, 1795.1755478522455, 1797.2105454613056, 1797.2105454613059, 1798.7077000156457, 1798.7077000156464, 1801.9368597713367, 1801.9368597713371, 1803.653908306369, 1803.6539083063699, 1807.3943164091838, 1807.3943164091843, 1810.59603993488, 1810.59603993488, 1814.8201532235194, 1814.8201532235196, 1815.883694092133, 1815.883694092133, 1817.2589444486757, 1817.2589444486769, 1820.8654678493733, 1820.8654678493735, 1822.0546370558377, 1822.054637055838, 1828.1018121256348, 1828.1018121256357, 1834.2443616159649, 1834.2443616159649, 1834.7104090368146, 1834.7104090368146, 1835.5651615553531, 1835.5651615553543, 1843.2989805218733, 1843.298980521874, 1844.5708749552955, 1844.570874955296, 1844.9075222756423, 1844.9075222756426, 1846.339429638459, 1846.3394296384593, 1847.4725784154339, 1847.472578415434, 1848.1519269416272, 1848.1519269416274, 1848.5352426727386, 1848.535242672739, 1850.6092796782161, 1850.6092796782166, 1850.681067447965, 1850.6810674479655, 1852.4635896178652, 1852.4635896178654, 1853.507728559784, 1853.5077285597845, 1855.0219298456238, 1855.0219298456238, 1856.5112779220467, 1856.5112779220483, 1857.0475087057403, 1857.0475087057403, 1857.554177386387, 1857.5541773863874, 1861.3262601599974, 1861.326260159998, 1863.5367739570556, 1863.5367739570556, 1866.082113605977, 1866.0821136059772, 1867.7917573802317, 1867.7917573802324, 1867.9788793073512, 1867.978879307352, 1868.4082234325685, 1868.4082234325692, 1870.664546326594, 1870.664546326594, 1875.2303784535698, 1875.2303784535698, 1876.601379865167, 1876.6013798651677, 1879.9083713836255, 1879.9083713836255, 1882.2725775863162, 1882.2725775863178, 1886.7370028807604, 1886.7370028807604, 1888.8493612935135, 1888.8493612935135, 1889.2709434144972, 1889.2709434144972, 1889.7507608742392, 1889.7507608742394, 1890.278921560565, 1890.2789215605653, 1890.2935268509186, 1890.293526850919, 1891.2361692445932, 1891.2361692445938, 1891.618023756931, 1891.6180237569313, 1895.4916883321755, 1895.4916883321755, 1897.857983464347, 1897.857983464347, 1898.187033557321, 1898.187033557321, 1903.8916325984862, 1903.8916325984867, 1908.3779583183316, 1908.3779583183325, 1914.0556505087372, 1914.0556505087377, 1914.4925323374166, 1914.492532337417, 1918.595495324155, 1918.595495324155, 1919.913282964348, 1919.913282964348, 1920.6319975971837, 1920.6319975971837, 1924.9520571961302, 1924.9520571961302, 1925.501131168785, 1925.501131168785, 1925.507419768591, 1925.5074197685913, 1927.951716310089, 1927.9517163100898, 1929.9561227031152, 1929.9561227031154, 1930.6230679494897, 1930.6230679494902, 1930.6570959056403, 1930.6570959056407, 1931.3786692902354, 1931.3786692902356, 1932.293201114604, 1932.293201114605, 1935.7084986989912, 1935.7084986989912, 1939.6776186804293, 1939.6776186804295, 1940.3131611276383, 1940.3131611276385, 1943.457088872918, 1943.457088872918, 1944.2929639471447, 1944.292963947145, 1953.216758754228, 1953.216758754229, 1953.7596371037437, 1953.7596371037437, 1955.157945304688, 1955.1579453046886, 1955.5393739619237, 1955.539373961924, 1958.3254170521952, 1958.3254170521955, 1959.0839568233073, 1959.083956823308, 1963.3091277118197, 1963.30912771182, 1963.4635000094706, 1963.4635000094709, 1963.73441355158, 1963.7344135515805, 1964.9838702015127, 1964.9838702015134, 1974.356639402011, 1974.3566394020113, 1975.09650607793, 1975.09650607793, 1975.6883798308604, 1975.6883798308606, 1978.4664307709031, 1978.4664307709033, 1981.4793860276575, 1981.479386027658, 1982.9246747585921, 1982.9246747585926, 1983.2235451268812, 1983.2235451268816, 1983.294491293911, 1983.2944912939115, 1983.6267226279342, 1983.6267226279347, 1983.8411956342034, 1983.841195634204, 1986.8474643691547, 1986.8474643691552, 1987.5215878548363, 1987.5215878548365, 1988.4504873946214, 1988.4504873946214, 1990.3999214881642, 1990.3999214881644, 1993.6087414668632, 1993.6087414668632, 1994.6642234775372, 1994.6642234775377, 1998.278861197807, 1998.2788611978074, 2003.8287959269833, 2003.8287959269833, 2003.8649032144958, 2003.864903214496, 2009.373147973425, 2009.3731479734251, 2017.51961007206, 2017.5196100720605, 2018.8747179497866, 2018.8747179497866, 2023.1609082065725, 2023.1609082065727, 2024.2945302497935, 2024.2945302497935, 2024.5599686657658, 2024.559968665766, 2029.5276814375243, 2029.5276814375245, 2030.2286127610914, 2030.2286127610914, 2031.4593223614947, 2031.4593223614963, 2032.820987779824, 2032.8209877798245, 2033.0579960594562, 2033.0579960594562, 2033.6776918594937, 2033.6776918594942, 2034.6843050938683, 2034.6843050938687, 2038.4797555080454, 2038.4797555080459, 2039.0436735325225, 2039.0436735325225, 2039.6829799202549, 2039.682979920255, 2041.137941554777, 2041.137941554777, 2042.3582342347347, 2042.3582342347354, 2046.026019573539, 2046.0260195735395, 2046.9923706907357, 2046.992370690736, 2051.0002134751203, 2051.0002134751203, 2059.218627916172, 2059.2186279161724, 2060.8050970534355, 2060.8050970534355, 2064.2300130919, 2064.2300130919007, 2078.509513977647, 2078.5095139776477, 2091.478509544177, 2091.4785095441775, 2092.633221211405, 2092.633221211405, 2095.7882241678817, 2095.7882241678817, 2098.954973506421, 2098.954973506421, 2100.545246272738, 2100.5452462727385, 2102.252565016012, 2102.2525650160123, 2103.254841344961, 2103.2548413449613, 2103.5559488111508, 2103.555948811151, 2104.4561170792904, 2104.4561170792904, 2109.414826214906, 2109.414826214906, 2119.1221111514838, 2119.1221111514838, 2119.2471997123434, 2119.2471997123434, 2119.6886348402245, 2119.6886348402245, 2122.7601519992427, 2122.760151999243, 2127.6946567478017, 2127.694656747802, 2129.75830867505, 2129.75830867505, 2130.957140304044, 2130.957140304044, 2133.860060800567, 2133.8600608005677, 2138.361684973199, 2138.3616849731993, 2144.304334209865, 2144.304334209866, 2148.7810455153303, 2148.781045515331, 2149.0048227299426, 2149.0048227299426, 2149.9204533669467, 2149.920453366947, 2150.132684376764, 2150.132684376764, 2163.2412609331777, 2163.241260933178, 2164.4250748267023, 2164.4250748267027, 2166.1108975109714, 2166.110897510972, 2170.6590826161455, 2170.6590826161455, 2180.8057389702344, 2180.805738970235, 2182.964924585766, 2182.9649245857663, 2185.894179486094, 2185.894179486094, 2186.4726555794464, 2186.472655579447, 2188.49483370467, 2188.4948337046703, 2196.049854122943, 2196.049854122943, 2199.871157536987, 2199.8711575369875, 2200.4077893315825, 2200.4077893315825, 2202.0567147493653, 2202.0567147493653, 2203.034948495066, 2203.034948495066, 2211.8266490993947, 2211.8266490993947, 2213.968791808436, 2213.9687918084364, 2221.939837799127, 2221.939837799127, 2225.249518533412, 2225.249518533412, 2230.429641798009, 2230.4296417980095, 2232.21645058153, 2232.21645058153, 2232.8518203215817, 2232.8518203215817, 2237.483714574242, 2237.483714574243, 2240.016137501479, 2240.0161375014795, 2253.806632656023, 2253.806632656023, 2254.031431469494, 2254.0314314694947, 2254.7289327759418, 2254.7289327759418, 2255.5005438672983, 2255.5005438672993, 2258.4058442124087, 2258.4058442124096, 2270.282925500701, 2270.2829255007014, 2279.4755277664713, 2279.4755277664717, 2283.8452954002128, 2283.845295400213, 2287.1542306024567, 2287.154230602458, 2289.9597062573157, 2289.9597062573157, 2290.0787506686656, 2290.078750668666, 2293.5807125687397, 2293.58071256874, 2297.1836928655343, 2297.183692865535, 2303.412072185061, 2303.412072185061, 2303.4610006793814, 2303.4610006793814, 2309.6810362898186, 2309.6810362898186, 2313.3381532754393, 2313.3381532754397, 2317.904787518301, 2317.9047875183014, 2323.52407145136, 2323.5240714513607, 2326.8072828085647, 2326.807282808565, 2327.016326562459, 2327.016326562459, 2327.0225759977175, 2327.0225759977175, 2329.2199518085567, 2329.2199518085567, 2335.107009235201, 2335.1070092352015, 2336.140801466936, 2336.140801466936, 2349.622689753772, 2349.622689753772, 2350.0156739762288, 2350.0156739762288, 2352.0045888011205, 2352.0045888011205, 2356.9592633533252, 2356.9592633533257, 2360.239573475463, 2360.239573475463, 2365.8436504685496, 2365.8436504685496, 2366.0652200398367, 2366.065220039837, 2367.7294601890844, 2367.7294601890844, 2372.1009395096194, 2372.10093950962, 2372.665677747023, 2372.6656777470234, 2397.776782990901, 2397.776782990901, 2403.49101895816, 2403.49101895816, 2411.39746815287, 2411.397468152871, 2412.207964044223, 2412.2079640442234, 2413.252048952677, 2413.252048952677, 2414.720687798421, 2414.7206877984213, 2416.6984430879643, 2416.6984430879643, 2418.3488057495565, 2418.3488057495574, 2418.6425780565546, 2418.6425780565546, 2421.0900215924285, 2421.090021592429, 2423.833570734855, 2423.833570734855, 2424.129198067122, 2424.1291980671235, 2425.8865461166147, 2425.886546116615, 2428.7077155556594, 2428.7077155556594, 2429.8124216729816, 2429.812421672982, 2439.8461717768996, 2439.8461717769005, 2442.3223548149294, 2442.322354814931, 2448.4660097183414, 2448.466009718342, 2448.946834470438, 2448.946834470438, 2450.1456332481253, 2450.145633248126, 2451.6523576737204, 2451.6523576737213, 2452.69011573374, 2452.6901157337406, 2455.574883531266, 2455.5748835312666, 2457.185278255609, 2457.185278255609, 2461.540596337626, 2461.540596337627, 2462.8810063561755, 2462.8810063561755, 2465.0290849881762, 2465.0290849881762, 2469.3032973767695, 2469.303297376771, 2476.66081191345, 2476.6608119134503, 2476.7620843088494, 2476.76208430885, 2480.626911327126, 2480.6269113271264, 2483.423022139585, 2483.423022139585, 2483.691896353598, 2483.6918963535986, 2488.9022415312857, 2488.9022415312866, 2491.979093035511, 2491.9790930355125, 2493.1500572651944, 2493.1500572651944, 2494.0843075789976, 2494.084307578998, 2499.1313997733882, 2499.1313997733882, 2506.1242187620137, 2506.124218762014, 2507.5680387990524, 2507.5680387990524, 2519.4615674730526, 2519.4615674730535, 2519.6474610411847, 2519.647461041186, 2523.5015000347826, 2523.5015000347826, 2523.6084994561425, 2523.6084994561434, 2527.444243474311, 2527.4442434743114, 2528.3018160283405, 2528.301816028341, 2541.6129216815048, 2541.612921681505, 2557.7865808983975, 2557.7865808983984, 2559.619560133291, 2559.619560133293, 2561.5064044256783, 2561.5064044256787, 2566.505080077425, 2566.5050800774256, 2574.863020082571, 2574.8630200825714, 2579.441136204052, 2579.4411362040532, 2582.302891247889, 2582.3028912478894, 2582.6795119681406, 2582.6795119681406, 2583.3718054999276, 2583.371805499929, 2585.691436146326, 2585.6914361463264, 2586.4323576986076, 2586.4323576986085, 2597.308089382313, 2597.3080893823144, 2601.9114976755195, 2601.91149767552, 2612.3907258068743, 2612.3907258068743, 2613.744949498995, 2613.744949498995, 2629.5249279314685, 2629.5249279314694, 2634.2148424930956, 2634.214842493096, 2639.5266326692345, 2639.526632669236, 2649.016955380993, 2649.0169553809937, 2655.1059381112427, 2655.1059381112427, 2656.1803552209517, 2656.180355220952, 2658.9842572361576, 2658.9842572361576, 2670.719161372654, 2670.719161372655, 2671.5424218240337, 2671.542421824034, 2674.2893975401603, 2674.2893975401607, 2680.4517907290424, 2680.451790729043, 2682.8929015197327, 2682.8929015197327, 2700.386865079929, 2700.3868650799295, 2701.8410395578385, 2701.8410395578385, 2705.477741369814, 2705.4777413698143, 2706.0623749565457, 2706.0623749565457, 2715.3086284134533, 2715.3086284134533, 2715.6298578453543, 2715.6298578453543, 2724.08828479543, 2724.0882847954304, 2724.97433038404, 2724.974330384041, 2728.6528650584582, 2728.6528650584587, 2730.1309816119847, 2730.130981611985, 2734.629706089499, 2734.6297060895, 2741.599485946823, 2741.599485946823, 2743.6060238119385, 2743.606023811939, 2758.0407089094174, 2758.0407089094174, 2758.776330891226, 2758.7763308912263, 2776.991946767113, 2776.9919467671143, 2787.630735420268, 2787.6307354202695, 2790.6390280591054, 2790.6390280591063, 2792.7439698281405, 2792.743969828141, 2796.578759968777, 2796.5787599687774, 2804.549873685066, 2804.5498736850664, 2814.3812509955933, 2814.3812509955937, 2820.5123392247424, 2820.5123392247424, 2821.1185376686058, 2821.118537668606, 2824.6757465639357, 2824.6757465639366, 2826.577722205559, 2826.5777222055594, 2826.647873100256, 2826.6478731002567, 2828.1820772859883, 2828.1820772859883, 2829.7215380967104, 2829.721538096711, 2836.6671089986376, 2836.667108998638, 2836.9723615909456, 2836.972361590946, 2838.553751994536, 2838.5537519945365, 2847.60515659603, 2847.605156596031, 2857.115709634214, 2857.115709634214, 2860.087412341256, 2860.0874123412564, 2864.7571005102386, 2864.757100510239, 2865.801777990038, 2865.801777990038, 2868.1278141843136, 2868.127814184315, 2874.3302577218797, 2874.33025772188, 2876.6409895198376, 2876.640989519838, 2883.4819498237025, 2883.4819498237034, 2893.8897264207403, 2893.8897264207403, 2897.674915148797, 2897.6749151487975, 2897.944517212926, 2897.9445172129263, 2901.9294503500737, 2901.9294503500746, 2916.9167634436776, 2916.9167634436776, 2925.384882670272, 2925.384882670272, 2935.448633941331, 2935.448633941332, 2940.6499778507814, 2940.6499778507823, 2952.6273863414017, 2952.6273863414017, 2953.2423070817126, 2953.242307081714, 2962.485014937356, 2962.485014937357, 2975.831470591806, 2975.831470591806, 2978.1457926044045, 2978.145792604405, 2996.582367095101, 2996.582367095101, 2997.1376781652257, 2997.1376781652257, 3015.931305927965, 3015.931305927966, 3026.8628516786202, 3026.8628516786207, 3028.0424447921314, 3028.0424447921314, 3031.944861522107, 3031.9448615221104, 3033.416856855161, 3033.4168568551613, 3036.7988616858547, 3036.798861685855, 3059.443782522244, 3059.4437825222444, 3064.838987459894, 3064.8389874598943, 3067.2897092404796, 3067.28970924048, 3070.293191509212, 3070.2931915092136, 3072.3375615335244, 3072.3375615335253, 3074.5485880479987, 3074.5485880479996, 3087.514346427908, 3087.514346427909, 3096.1879213336224, 3096.1879213336224, 3096.955092805683, 3096.9550928056838, 3102.508966558761, 3102.508966558762, 3113.499972240271, 3113.4999722402713, 3125.3331960556466, 3125.333196055647, 3125.575944990765, 3125.5759449907655, 3138.025431448907, 3138.0254314489093, 3142.9238978645817, 3142.9238978645817, 3145.2358051088127, 3145.235805108813, 3152.587385682107, 3152.587385682107, 3152.9053555875366, 3152.9053555875366, 3156.399686740367, 3156.3996867403675, 3168.1837029960307, 3168.1837029960307, 3174.466025040073, 3174.466025040074, 3177.9090429396883, 3177.9090429396883, 3181.6088886143916, 3181.6088886143916, 3187.7521955523043, 3187.7521955523052, 3192.7682860949753, 3192.768286094976, 3193.920660094445, 3193.920660094445, 3196.117222918095, 3196.1172229180956, 3200.836592450497, 3200.836592450497, 3200.893617076977, 3200.8936170769775, 3201.5997269085483, 3201.599726908549, 3202.985663948823, 3202.9856639488235, 3203.5598399688893, 3203.5598399688897, 3203.5722529735895, 3203.5722529735904, 3204.3146008787658, 3204.3146008787658, 3204.6295141920527, 3204.6295141920536, 3209.835789078937, 3209.835789078937, 3210.0348864759876, 3210.034886475988, 3210.5064357304173, 3210.5064357304173, 3211.610119073041, 3211.610119073041, 3212.1624511832983, 3212.162451183299, 3212.261022401464, 3212.2610224014643, 3213.4540258074667, 3213.454025807469, 3213.864905239476, 3213.8649052394762, 3216.821810024525, 3216.8218100245253, 3217.02245351329, 3217.0224535132907, 3217.6686627450267, 3217.6686627450276, 3218.155099306332, 3218.1550993063324, 3218.8653634205307, 3218.865363420531, 3220.745465728389, 3220.7454657283893, 3220.835453467786, 3220.8354534677874, 3221.7237743539067, 3221.7237743539076, 3222.457339008645, 3222.457339008645, 3222.533730058115, 3222.533730058116, 3222.661284248582, 3222.661284248582, 3223.7346959010356, 3223.7346959010365, 3224.226319544839, 3224.226319544839, 3226.038674198787, 3226.0386741987872, 3226.462127283111, 3226.462127283111, 3228.3436766943187, 3228.3436766943187, 3228.9573985527454, 3228.9573985527463, 3230.929315123403, 3230.9293151234033, 3231.4296177552114, 3231.4296177552114, 3231.467561437546, 3231.467561437546, 3239.140095246323, 3239.1400952463237, 3240.717198677102, 3240.7171986771027, 3242.6804861845053, 3242.6804861845058, 3251.29262675774, 3251.2926267577404, 3251.8877576114583, 3251.8877576114583, 3252.189853552812, 3252.1898535528126, 3257.41280869071, 3257.41280869071, 3267.4923210980537, 3267.492321098054, 3293.162728370933, 3293.162728370934, 3299.34649539735, 3299.34649539735, 3303.4606346243418, 3303.460634624343, 3307.5634220759625, 3307.563422075963, 3312.1067377374025, 3312.1067377374034, 3325.719845916543, 3325.719845916544, 3341.414894385623, 3341.4148943856244, 3343.1653367296412, 3343.1653367296417, 3347.600920395177, 3347.600920395178, 3354.2682956990297, 3354.2682956990307, 3357.3325713682007, 3357.3325713682007, 3360.3625725195348, 3360.362572519536, 3368.3673685123217, 3368.3673685123226, 3392.9131453572295, 3392.9131453572304, 3399.9981895456513, 3399.9981895456517, 3441.5145166544994, 3441.5145166545003, 3445.003420849549, 3445.0034208495495, 3451.8331534969843, 3451.833153496985, 3461.003422627001, 3461.003422627001, 3486.2403058216387, 3486.2403058216396, 3486.8191131864837, 3486.819113186484, 3499.787488723932, 3499.7874887239336, 3509.9519728017985, 3509.9519728017995, 3534.926740003144, 3534.9267400031476, 3558.6495383371125, 3558.649538337113, 3568.614708827856, 3568.6147088278562, 3571.3568134449333, 3571.356813444934, 3589.312777563342, 3589.312777563342, 3590.4346445494116, 3590.434644549412, 3617.84261073455, 3617.8426107345513, 3628.4625121547124, 3628.4625121547137, 3631.811695663462, 3631.8116956634626, 3639.903772082747, 3639.9037720827478, 3662.3735706060784, 3662.37357060608, 3662.63823060146, 3662.63823060146, 3674.429431614503, 3674.429431614503, 3699.7298964176607, 3699.729896417662, 3713.4195384271534, 3713.4195384271543, 3733.1489165749813, 3733.1489165749826, 3740.317711723958, 3740.3177117239584, 3795.7016550300805, 3795.7016550300814, 3809.0456290955003, 3809.0456290955008, 3832.231744961947, 3832.231744961947, 3844.427983627136, 3844.4279836271367, 3844.674147705248, 3844.6741477052497, 3853.803206356915, 3853.8032063569162, 3863.9141379602456, 3863.914137960248, 3879.9608092602116, 3879.9608092602125, 3894.075404932485, 3894.0754049324864, 3904.6129061334855, 3904.612906133486, 3940.5120347201964, 3940.5120347201973, 3949.6742624713665, 3949.674262471367, 3961.0655059885053, 3961.0655059885053, 3980.1407445799828, 3980.140744579983, 3988.095171422755, 3988.0951714227554, 3990.266868565507, 3990.266868565508, 4000.6384384208745, 4000.638438420875, 4014.1118913996243, 4014.1118913996243, 4023.7721829069524, 4023.772182906953, 4027.4427675460506, 4027.442767546051, 4027.9937105169283, 4027.993710516929, 4036.948880100721, 4036.9488801007215, 4051.819284865371, 4051.8192848653716, 4062.224321843947, 4062.224321843948, 4075.2611424842794, 4075.2611424842803, 4081.987402681432, 4081.9874026814323, 4084.322056398339, 4084.322056398339, 4087.0700473661595, 4087.0700473661595, 4101.164778391537, 4101.164778391537, 4104.7174855381, 4104.7174855381, 4105.394740221262, 4105.394740221262, 4112.223678072336, 4112.223678072337, 4114.940978605915, 4114.940978605916, 4116.925170526568, 4116.92517052657, 4130.084915108597, 4130.084915108598, 4134.943447702846, 4134.943447702847, 4141.4977091896135, 4141.4977091896135, 4177.408912934135, 4177.4089129341355, 4198.995543147585, 4198.995543147585, 4200.390998279276, 4200.390998279276, 4233.886158456523, 4233.886158456524, 4246.1386679714715, 4246.138667971472, 4260.263243130812, 4260.263243130812, 4261.978302319517, 4261.978302319517, 4275.107990078261, 4275.107990078261, 4283.970012165895, 4283.970012165896, 4317.077843335575, 4317.077843335576, 4325.198916771817, 4325.198916771819, 4339.796132022045, 4339.796132022046, 4354.937431000834, 4354.937431000835, 4363.6799314484, 4363.679931448401, 4374.8194901975985, 4374.8194901976, 4403.989740342535, 4403.989740342536, 4413.368496793676, 4413.368496793677, 4415.3264098187055, 4415.3264098187055, 4418.577790523326, 4418.577790523327, 4419.2979522770165, 4419.297952277017, 4424.088317722652, 4424.088317722653, 4452.031256822252, 4452.031256822255, 4458.784995313177, 4458.784995313179, 4477.712676156113, 4477.712676156115, 4479.41274425723, 4479.412744257231, 4481.316907738194, 4481.316907738194, 4488.246895163773, 4488.246895163774, 4489.019948898071, 4489.0199488980725, 4490.390285457366, 4490.390285457366, 4519.206171638923, 4519.206171638923, 4520.707816372277, 4520.707816372279, 4535.9593524066, 4535.959352406602, 4543.352620964624, 4543.352620964626, 4564.731251745647, 4564.731251745648, 4566.091647481386, 4566.091647481387, 4570.8788636024865, 4570.878863602488, 4576.6691055147285, 4576.669105514729, 4618.023091880696, 4618.023091880696, 4621.805873945146, 4621.805873945148, 4642.803006713246, 4642.803006713246, 4652.510949876218, 4652.510949876219, 4666.407986736665, 4666.407986736666, 4687.757828145591, 4687.757828145593, 4691.337764832101, 4691.337764832102, 4694.5105230360205, 4694.510523036021, 4710.720002016774, 4710.720002016775, 4719.23123043283, 4719.231230432831, 4720.629278631117, 4720.629278631117, 4721.510332371626, 4721.510332371626, 4725.969076916152, 4725.969076916152, 4730.5588830681045, 4730.5588830681045, 4732.897745480454, 4732.897745480455, 4736.251805448629, 4736.25180544863, 4743.398339629424, 4743.398339629425, 4752.738012447944, 4752.738012447945, 4769.189133202535, 4769.189133202536, 4770.58497456729, 4770.58497456729, 4772.77689523236, 4772.77689523236, 4777.61494665877, 4777.614946658771, 4778.940719508634, 4778.940719508635, 4780.723612813203, 4780.7236128132035, 4784.320897840736, 4784.3208978407365, 4793.122845162479, 4793.122845162481, 4794.143692528504, 4794.143692528504, 4794.201599924446, 4794.201599924446, 4795.4017302994835, 4795.401730299484, 4796.382936826184, 4796.382936826185, 4799.318838445559, 4799.318838445561, 4801.457575093251, 4801.457575093251, 4806.176096839259, 4806.176096839259, 4806.19998011283, 4806.19998011283, 4806.403086536002, 4806.403086536002, 4814.198321499033, 4814.198321499034, 4815.321318759177, 4815.321318759178, 4817.662932301022, 4817.662932301024, 4818.120274574725, 4818.120274574726, 4818.409567336455, 4818.409567336456, 4820.4822181489235, 4820.482218148925, 4821.189053031882, 4821.189053031882, 4824.547000969689, 4824.547000969689, 4824.824284916795, 4824.824284916796, 4826.327012561357, 4826.327012561357, 4827.908931230166, 4827.908931230166, 4828.249450152149, 4828.24945015215, 4831.369260011436, 4831.369260011437, 4831.698626734231, 4831.698626734231, 4832.168071020997, 4832.168071020997, 4832.371785581598, 4832.371785581599, 4834.50248956912, 4834.50248956912, 4836.013985281068, 4836.01398528107, 4836.768876587356, 4836.768876587356, 4837.007513669881, 4837.0075136698815, 4837.684707609835, 4837.684707609837, 4837.795810294857, 4837.795810294857, 4838.121207433414, 4838.121207433414, 4838.259951025049, 4838.25995102505, 4839.01338470558, 4839.013384705581, 4842.650684820799, 4842.650684820799, 4842.905736972992, 4842.905736972993, 4843.14425582517, 4843.144255825171, 4843.167591522399, 4843.167591522399, 4843.3641529472325, 4843.3641529472325, 4843.730785789223, 4843.730785789225, 4844.514868186661, 4844.514868186662, 4845.124967113722, 4845.124967113723, 4845.253783662788, 4845.253783662789, 4847.226194572187, 4847.2261945721875, 4848.330994189632, 4848.330994189634, 4848.804824233619, 4848.80482423362, 4849.519935127843, 4849.519935127845, 4852.8770224922655, 4852.877022492266, 4857.3519971833475, 4857.351997183348, 4861.5556539859235, 4861.5556539859235, 4864.758260477106, 4864.758260477106, 4866.278535509089, 4866.27853550909, 4872.195892696571, 4872.195892696572, 4880.097934742858, 4880.097934742859, 4887.212794159899, 4887.2127941599, 4888.687591885065, 4888.687591885065, 4888.70543361345, 4888.7054336134515, 4889.823698256472, 4889.823698256473, 4894.465874609737, 4894.465874609737, 4903.078799882435, 4903.078799882437, 4907.849840083509, 4907.849840083509, 4909.18097176855, 4909.180971768551, 4911.812187394922, 4911.812187394922, 4930.31848411621, 4930.318484116211, 4933.502461765357, 4933.502461765358, 4936.7885915709285, 4936.78859157093, 4938.496743620723, 4938.496743620725, 4942.743698119901, 4942.743698119902, 4946.217545574239, 4946.217545574239, 4973.181786701776, 4973.181786701776, 4985.653809214956, 4985.653809214957, 4994.426642349007, 4994.426642349007, 4994.872095168268, 4994.872095168269, 4998.961259603017, 4998.961259603017, 5006.385852904182, 5006.385852904182, 5006.492534500819, 5006.492534500823, 5043.273453373126, 5043.273453373128, 5043.99766714249, 5043.997667142491, 5044.0997669835915, 5044.099766983593, 5057.995289742133, 5057.995289742134, 5068.327847468574, 5068.327847468574, 5076.084433905194, 5076.084433905195, 5094.657580685709, 5094.657580685714, 5098.123459265995, 5098.123459265996, 5110.682160200592, 5110.682160200593, 5113.47552303714, 5113.475523037141, 5132.187401339475, 5132.187401339476, 5149.994379670634, 5149.994379670635, 5154.178014326883, 5154.178014326885, 5176.643557729675, 5176.643557729678, 5178.764631586282, 5178.764631586283, 5208.535811789705, 5208.535811789706, 5217.746585707065, 5217.746585707066, 5224.837147600423, 5224.837147600423, 5229.576329238547, 5229.576329238548, 5257.945603060787, 5257.945603060788, 5271.845843009875, 5271.845843009875, 5295.438162424727, 5295.438162424727, 5296.475029879231, 5296.475029879232, 5296.9906232288495, 5296.990623228851, 5327.788860923098, 5327.7888609230995, 5334.494892443895, 5334.494892443896, 5350.537542591472, 5350.537542591473, 5385.6192797124, 5385.619279712401, 5395.3519162319635, 5395.351916231965, 5402.908657646534, 5402.908657646535, 5438.172129704492, 5438.172129704493, 5441.034239607319, 5441.034239607321, 5445.261558121157, 5445.261558121158, 5466.638517955415, 5466.638517955416, 5469.888974066991, 5469.888974066994, 5477.835988068318, 5477.835988068319, 5480.454863701344, 5480.454863701346, 5526.571984443289, 5526.571984443289, 5535.31437396026, 5535.314373960262, 5574.154975833543, 5574.154975833546, 5580.325519874603, 5580.325519874604, 5589.379575769596, 5589.379575769597, 5590.35071396092, 5590.350713960921, 5604.05175310758, 5604.051753107582, 5614.072057787794, 5614.072057787795, 5633.402580140311, 5633.402580140311, 5657.069683314064, 5657.0696833140655, 5666.655172579742, 5666.655172579742, 5673.601108944441, 5673.601108944442, 5683.903063621836, 5683.903063621836, 5686.754895862798, 5686.754895862799, 5708.221829854644, 5708.221829854646, 5762.490851487394, 5762.490851487394, 5785.779343290958, 5785.77934329096, 5802.025631626913, 5802.025631626915, 5803.568892809939, 5803.56889280994, 5806.986958616171, 5806.986958616172, 5825.045867677689, 5825.04586767769, 5825.855366158874, 5825.855366158875, 5828.8630343822115, 5828.863034382212, 5832.513467894298, 5832.513467894298, 5848.527061446473, 5848.527061446473, 5848.902930584353, 5848.902930584354, 5857.068695403418, 5857.06869540342, 5875.996901968778, 5875.996901968779, 5985.298093334588, 5985.298093334589, 6037.994322344923, 6037.994322344923, 6042.462183903485, 6042.462183903486, 6053.512743507713, 6053.512743507714, 6060.335495514072, 6060.335495514076, 6085.732099541983, 6085.732099541986, 6091.619057148298, 6091.619057148299, 6115.130510338649, 6115.13051033865, 6127.709772744853, 6127.7097727448545, 6140.58410316476, 6140.5841031647615, 6148.70952808376, 6148.709528083761, 6194.514658114418, 6194.514658114419, 6212.892139861384, 6212.892139861386, 6249.302639151801, 6249.302639151803, 6256.499977054309, 6256.499977054312, 6266.389409316103, 6266.389409316104, 6288.557033548704, 6288.557033548706, 6303.883263503372, 6303.883263503373, 6307.557538016697, 6307.5575380167, 6319.555185034141, 6319.555185034143, 6327.48043749715, 6327.480437497152, 6328.405112116599, 6328.405112116599, 6338.66384363376, 6338.66384363376, 6340.515512375402, 6340.515512375403, 6341.733467018199, 6341.733467018199, 6342.295847012171, 6342.295847012172, 6358.892115877563, 6358.892115877563, 6369.760730807185, 6369.760730807185, 6370.00742662141, 6370.007426621411, 6372.0852101582495, 6372.08521015825, 6379.998538316855, 6379.998538316855, 6392.694524818072, 6392.694524818072, 6393.307638156013, 6393.307638156013, 6396.860718255152, 6396.860718255152, 6407.189248019386, 6407.189248019388, 6410.478029422895, 6410.478029422896, 6415.156943007762, 6415.1569430077625, 6415.392478732974, 6415.392478732977, 6416.689259137212, 6416.6892591372125, 6418.036057520869, 6418.036057520871, 6419.120676063651, 6419.120676063651, 6420.114269703405, 6420.114269703406, 6420.75924872248, 6420.759248722481, 6422.509557887005, 6422.509557887007, 6429.679598292906, 6429.679598292909, 6430.212628187855, 6430.212628187857, 6431.163901987121, 6431.163901987122, 6433.09128512052, 6433.091285120521, 6433.862511643941, 6433.862511643942, 6434.313245588882, 6434.313245588882, 6434.318092169104, 6434.318092169105, 6436.634775411308, 6436.6347754113085, 6441.894838363439, 6441.89483836344, 6444.144792079718, 6444.144792079719, 6444.145798201696, 6444.145798201696, 6444.827680168996, 6444.827680168998, 6452.335766037418, 6452.335766037419, 6452.689375271899, 6452.6893752719, 6452.716861606837, 6452.7168616068375, 6453.835922200981, 6453.835922200986, 6459.239311655627, 6459.239311655628, 6461.410078431869, 6461.410078431871, 6462.292956666368, 6462.292956666369, 6463.522517200464, 6463.522517200465, 6467.018501408491, 6467.018501408491, 6469.014676571133, 6469.014676571135, 6470.65799402175, 6470.657994021751, 6474.861157304808, 6474.86115730481, 6476.092241398239, 6476.09224139824, 6476.818390147731, 6476.818390147732, 6477.911265858541, 6477.911265858543, 6485.53536059172, 6485.535360591721, 6514.420012359951, 6514.420012359951, 6556.2971062992665, 6556.297106299268, 6565.272745638312, 6565.272745638312, 6565.4625510150945, 6565.462551015097, 6577.0280500191575, 6577.0280500191575, 6588.838106483406, 6588.838106483409, 6589.849839224581, 6589.849839224582, 6600.022066033448, 6600.02206603345, 6619.962959323813, 6619.962959323813, 6620.028811054048, 6620.02881105405, 6646.249060157029, 6646.24906015703, 6652.9425462675, 6652.942546267501, 6683.009677286526, 6683.009677286529, 6692.379407452676, 6692.379407452676, 6776.715872278831, 6776.715872278832, 6807.075513308309, 6807.07551330831, 6891.691915708994, 6891.691915708995, 6901.2663432603795, 6901.266343260382, 6938.436907177665, 6938.4369071776655, 6983.924710976847, 6983.9247109768485, 6997.5629182918865, 6997.562918291889, 7060.5148666615705, 7060.514866661573, 7067.39636081935, 7067.39636081935, 7070.460229648209, 7070.460229648212, 7103.315932767772, 7103.315932767774, 7107.508734287847, 7107.508734287848, 7107.984104268269, 7107.984104268276, 7114.594032498815, 7114.594032498816, 7127.700059119558, 7127.700059119559, 7133.998976420986, 7133.998976420988, 7152.426527716577, 7152.42652771658, 7164.137232821372, 7164.137232821379, 7213.85505254665, 7213.855052546651, 7228.197095658672, 7228.197095658672, 7229.493664468586, 7229.493664468588, 7244.351818168398, 7244.351818168399, 7254.638428860209, 7254.638428860212, 7254.850457902159, 7254.85045790216, 7255.126350166304, 7255.126350166306, 7255.946374812363, 7255.946374812363, 7274.2688758379845, 7274.268875837986, 7298.99472062834, 7298.9947206283405, 7304.263428571149, 7304.26342857115, 7306.154591291079, 7306.15459129108, 7307.865284117381, 7307.865284117382, 7315.9738309308395, 7315.97383093084, 7332.860299063262, 7332.860299063263, 7333.516431724212, 7333.516431724212, 7333.766069625686, 7333.766069625688, 7349.570660314451, 7349.570660314452, 7359.451906125135, 7359.451906125137, 7361.2921306105445, 7361.292130610545, 7436.740830519649, 7436.740830519651, 7437.114584492872, 7437.114584492873, 7449.771752978297, 7449.7717529782985, 7457.965286626984, 7457.965286626984, 7525.449364469315, 7525.449364469318, 7547.731756619668, 7547.731756619671, 7589.082538270399, 7589.082538270404, 7593.6540638445995, 7593.6540638446, 7596.529028915896, 7596.529028915898, 7608.489312108961, 7608.489312108964, 7629.499268070447, 7629.499268070448, 7630.049172360264, 7630.049172360266, 7635.128432060546, 7635.128432060549, 7637.944177829448, 7637.94417782945, 7651.643095857246, 7651.643095857252, 7748.656602772299, 7748.656602772302, 7786.385806138792, 7786.3858061387955, 7788.284561486691, 7788.284561486695, 7794.416000017224, 7794.416000017224, 7816.615045883873, 7816.615045883873, 7850.947082237623, 7850.947082237625, 7878.198433220863, 7878.198433220871, 7882.623979851265, 7882.623979851266, 7895.871621187811, 7895.871621187812, 7963.412070648113, 7963.412070648115, 7979.803266746753, 7979.803266746754, 7983.7867026233325, 7983.786702623334, 7985.58472845999, 7985.584728459992, 7986.417004809822, 7986.417004809825, 7989.287937898712, 7989.287937898714, 7993.520666351031, 7993.520666351033, 7998.072300895022, 7998.072300895023, 8002.252980345941, 8002.252980345941, 8003.609672847838, 8003.609672847839, 8010.115627603997, 8010.115627604, 8014.699896093203, 8014.699896093209, 8025.7270134069295, 8025.72701340693, 8029.055842130247, 8029.05584213025, 8032.525533088577, 8032.525533088577, 8038.226500572664, 8038.226500572667, 8043.524666298122, 8043.524666298126, 8044.563950443957, 8044.563950443957, 8044.7067668614, 8044.706766861404, 8049.088598140962, 8049.088598140963, 8054.213434790159, 8054.213434790161, 8055.095005625047, 8055.0950056250485, 8060.2122144378645, 8060.212214437865, 8060.511987652908, 8060.5119876529125, 8063.21218030433, 8063.212180304331, 8063.507110511665, 8063.507110511669, 8063.817571868607, 8063.817571868608, 8067.854275151668, 8067.854275151668, 8069.290155797227, 8069.290155797229, 8069.474657666379, 8069.474657666381, 8069.915706739277, 8069.915706739279, 8070.02796392642, 8070.0279639264245, 8073.99686245604, 8073.99686245604, 8074.598267400056, 8074.598267400062, 8074.752828627319, 8074.752828627332, 8076.265045827811, 8076.265045827813, 8078.501963452692, 8078.501963452693, 8078.7442849726895, 8078.744284972691, 8082.389604673157, 8082.389604673159, 8083.724129318465, 8083.724129318466, 8106.137939206734, 8106.137939206735, 8106.590327825529, 8106.590327825529, 8154.216800925079, 8154.216800925081, 8179.620146726236, 8179.620146726238, 8199.608839185968, 8199.60883918597, 8230.074162764811, 8230.074162764813, 8233.216679310439, 8233.216679310444, 8241.830002404662, 8241.830002404662, 8273.11146010479, 8273.111460104792, 8326.757457625685, 8326.757457625688, 8359.340172043892, 8359.340172043892, 8362.241008025618, 8362.241008025621, 8384.170212685569, 8384.17021268557, 8386.99021240227, 8386.990212402274, 8390.026991738301, 8390.026991738303, 8437.35889409413, 8437.358894094132, 8437.59446975271, 8437.59446975271, 8453.8478070922, 8453.847807092203, 8461.232708874015, 8461.232708874017, 8503.07042587884, 8503.07042587884, 8533.385291527096, 8533.3852915271, 8559.896489019618, 8559.896489019624, 8575.37361625263, 8575.37361625263, 8619.151948150426, 8619.15194815043, 8630.724513537145, 8630.724513537145, 8648.023907057237, 8648.023907057237, 8648.509375921023, 8648.509375921025, 8669.905875237246, 8669.905875237251, 8679.04683859853, 8679.046838598531, 8718.085920027745, 8718.085920027746, 8727.976219324386, 8727.976219324393, 8747.964091690614, 8747.964091690614, 8766.4756660379, 8766.475666037903, 8773.186678549642, 8773.186678549644, 8774.743758449546, 8774.743758449547, 8775.860516841261, 8775.860516841267, 8778.372147780301, 8778.372147780303, 8795.260553030388, 8795.26055303039, 8811.489699030526, 8811.489699030528, 8812.275089588482, 8812.275089588487, 8818.547082815072, 8818.547082815072, 8819.796116167952, 8819.79611616796, 8828.763107591529, 8828.76310759153, 8844.162778890357, 8844.162778890364, 8844.577926026237, 8844.57792602624, 8845.703974531049, 8845.70397453105, 8851.208028663932, 8851.208028663936, 8856.84636219536, 8856.846362195362, 8866.41091980348, 8866.41091980348, 8879.659987312763, 8879.659987312765, 8895.257967717425, 8895.257967717425, 8899.66964568421, 8899.669645684213, 8900.36551631271, 8900.365516312719, 8907.19326810158, 8907.19326810158, 8909.782141894262, 8909.782141894262, 8927.615269307827, 8927.61526930783, 8928.059563173554, 8928.059563173558, 8947.727282271884, 8947.727282271888, 8952.669153126495, 8952.669153126495, 8959.3054374738, 8959.305437473804, 8968.428352852347, 8968.428352852348, 9010.795736390852, 9010.795736390852, 9013.507212505841, 9013.507212505849, 9029.760990332246, 9029.760990332248, 9077.287864763526, 9077.287864763528, 9088.929351221303, 9088.929351221303, 9134.976844252938, 9134.976844252942, 9154.936620858782, 9154.936620858787, 9157.889575761053, 9157.889575761055, 9175.535010302783, 9175.535010302785, 9181.597408437647, 9181.597408437648, 9201.32428884512, 9201.32428884512, 9203.920730561103, 9203.920730561107, 9214.438739467527, 9214.438739467529, 9256.484829713976, 9256.48482971398, 9282.081027746566, 9282.081027746572, 9295.767917462774, 9295.767917462774, 9298.627016907505, 9298.627016907507, 9302.962842820665, 9302.962842820667, 9304.567011189089, 9304.56701118909, 9320.407140653419, 9320.40714065343, 9322.87750986609, 9322.877509866094, 9326.962630037717, 9326.962630037724, 9351.070140098871, 9351.070140098878, 9375.51799941177, 9375.517999411773, 9397.216396339585, 9397.216396339585, 9404.24718494226, 9404.247184942262, 9428.832226724171, 9428.832226724173, 9432.692731461797, 9432.692731461802, 9441.9796743106, 9441.979674310604, 9449.238997507415, 9449.238997507418, 9450.780362005271, 9450.780362005276, 9460.592743653817, 9460.592743653819, 9461.52394743297, 9461.523947432972, 9467.67366310952, 9467.673663109521, 9468.39646559974, 9468.396465599742, 9470.770976213342, 9470.770976213344, 9476.642065191869, 9476.64206519187, 9476.71481100699, 9476.714811006992, 9479.678904938906, 9479.678904938906, 9482.365080999636, 9482.365080999636, 9483.521294049662, 9483.521294049664, 9492.53970030954, 9492.539700309542, 9497.472228045506, 9497.47222804551, 9505.169081802112, 9505.169081802114, 9508.486233313004, 9508.48623331301, 9512.460984634043, 9512.460984634045, 9516.525412128058, 9516.525412128061, 9519.22156910527, 9519.221569105277, 9527.098718308118, 9527.09871830812, 9527.499728566987, 9527.499728566989, 9531.778718397993, 9531.778718397994, 9536.531122628337, 9536.531122628341, 9539.30171467684, 9539.30171467684, 9540.270824790408, 9540.270824790416, 9541.275005588584, 9541.27500558859, 9541.60125422919, 9541.601254229194, 9542.809391789186, 9542.809391789186, 9543.325186746539, 9543.325186746546, 9544.099005877099, 9544.0990058771, 9546.789614447398, 9546.7896144474, 9547.896404682546, 9547.896404682546, 9548.21706976791, 9548.21706976791, 9549.220440906163, 9549.220440906163, 9552.579242646043, 9552.579242646047, 9552.923572677048, 9552.92357267705, 9553.041313637974, 9553.041313637974, 9553.964007990806, 9553.964007990808, 9554.444061723832, 9554.444061723832, 9554.674849019744, 9554.674849019748, 9555.256344227846, 9555.256344227848, 9555.354622538622, 9555.354622538624, 9557.585693766187, 9557.58569376619, 9560.89714827653, 9560.897148276536, 9561.215222758916, 9561.215222758918, 9563.527097219421, 9563.527097219421, 9564.635339800796, 9564.635339800798, 9565.662199497245, 9565.662199497247, 9565.835520720617, 9565.835520720617, 9566.86383805866, 9566.863838058664, 9566.93420119475, 9566.934201194752, 9569.949428010743, 9569.949428010745, 9571.155597702653, 9571.155597702655, 9571.243197140448, 9571.243197140451, 9574.5275569867, 9574.527556986708, 9574.833327795692, 9574.833327795692, 9575.761889813373, 9575.761889813373, 9576.705597317849, 9576.70559731785, 9577.555529418169, 9577.555529418169, 9578.425224099105, 9578.425224099106, 9579.391272002224, 9579.391272002227, 9579.415591593399, 9579.415591593402, 9579.643283787822, 9579.643283787822, 9587.53240216037, 9587.532402160374, 9588.649204363981, 9588.649204363981, 9588.718996001475, 9588.718996001477, 9589.477124085786, 9589.47712408579, 9591.602677953053, 9591.602677953055, 9592.151138307017, 9592.151138307017, 9592.243513352236, 9592.24351335224, 9592.914994924056, 9592.914994924058, 9593.938349704418, 9593.938349704418, 9594.812349017528, 9594.812349017531, 9595.606838464118, 9595.606838464118, 9596.11841011279, 9596.118410112793, 9596.324554690984, 9596.324554690986, 9597.130094316277, 9597.130094316277, 9597.280371250201, 9597.280371250203, 9597.37765798853, 9597.377657988533, 9597.79639473886, 9597.796394738863, 9597.903147550473, 9597.903147550473, 9598.144020040052, 9598.144020040052, 9598.557252729539, 9598.557252729544, 9599.103906106093, 9599.103906106095]\n"
     ]
    }
   ],
   "source": [
    "borders = check_small_boundary_lengths(vest_base)\n",
    "print(borders[3000:6000])"
   ]
  },
  {
   "cell_type": "code",
   "execution_count": 30,
   "metadata": {},
   "outputs": [
    {
     "name": "stdout",
     "output_type": "stream",
     "text": [
      "Snapping all geometries to a grid with precision 10^( -5 ) to avoid GEOS errors.\n",
      "Identifying overlaps...\n"
     ]
    },
    {
     "name": "stderr",
     "output_type": "stream",
     "text": [
      "100%|█████████████████████████████████████| 1476/1476 [00:00<00:00, 5108.80it/s]\n"
     ]
    },
    {
     "name": "stdout",
     "output_type": "stream",
     "text": [
      "Resolving overlaps...\n",
      "Filling gaps...\n"
     ]
    },
    {
     "name": "stderr",
     "output_type": "stream",
     "text": [
      "Gaps to simplify: 0it [00:00, ?it/s]\n",
      "Gaps to fill: 0it [00:00, ?it/s]\n"
     ]
    },
    {
     "name": "stdout",
     "output_type": "stream",
     "text": [
      "Converting small rook adjacencies to queen...\n"
     ]
    },
    {
     "name": "stderr",
     "output_type": "stream",
     "text": [
      "100%|█████████████████████████████████████| 1386/1386 [00:00<00:00, 1747.63it/s]\n",
      "100%|███████████████████████████████████████████| 4/4 [00:00<00:00, 3014.23it/s]\n",
      "100%|███████████████████████████████████████████| 4/4 [00:00<00:00, 2950.10it/s]\n",
      "100%|███████████████████████████████████████████| 6/6 [00:00<00:00, 3525.12it/s]\n",
      "100%|███████████████████████████████████████████| 5/5 [00:00<00:00, 3302.60it/s]\n",
      "100%|███████████████████████████████████████████| 6/6 [00:00<00:00, 3893.23it/s]\n",
      "100%|███████████████████████████████████████████| 6/6 [00:00<00:00, 3418.81it/s]\n",
      "100%|███████████████████████████████████████████| 7/7 [00:00<00:00, 3458.61it/s]\n",
      "100%|███████████████████████████████████████████| 6/6 [00:00<00:00, 3515.27it/s]\n",
      "100%|███████████████████████████████████████████| 4/4 [00:00<00:00, 2657.57it/s]\n",
      "100%|███████████████████████████████████████████| 4/4 [00:00<00:00, 3199.93it/s]\n",
      "100%|███████████████████████████████████████████| 5/5 [00:00<00:00, 3324.06it/s]\n",
      "100%|███████████████████████████████████████████| 4/4 [00:00<00:00, 2749.01it/s]\n",
      "100%|███████████████████████████████████████████| 4/4 [00:00<00:00, 3262.15it/s]\n",
      "100%|███████████████████████████████████████████| 4/4 [00:00<00:00, 3230.74it/s]\n",
      "100%|███████████████████████████████████████████| 4/4 [00:00<00:00, 3202.37it/s]\n",
      "100%|███████████████████████████████████████████| 5/5 [00:00<00:00, 3396.75it/s]\n",
      "100%|███████████████████████████████████████████| 4/4 [00:00<00:00, 3381.14it/s]\n",
      "100%|███████████████████████████████████████████| 5/5 [00:00<00:00, 2974.26it/s]\n",
      "100%|███████████████████████████████████████████| 4/4 [00:00<00:00, 3267.23it/s]\n",
      "100%|███████████████████████████████████████████| 4/4 [00:00<00:00, 3308.46it/s]\n",
      "100%|███████████████████████████████████████████| 4/4 [00:00<00:00, 3520.93it/s]\n",
      "100%|███████████████████████████████████████████| 4/4 [00:00<00:00, 3086.32it/s]\n",
      "100%|███████████████████████████████████████████| 4/4 [00:00<00:00, 3418.34it/s]\n",
      "100%|███████████████████████████████████████████| 4/4 [00:00<00:00, 3338.75it/s]\n",
      "100%|███████████████████████████████████████████| 4/4 [00:00<00:00, 3103.44it/s]\n",
      "100%|███████████████████████████████████████████| 4/4 [00:00<00:00, 3355.44it/s]\n",
      "100%|███████████████████████████████████████████| 4/4 [00:00<00:00, 3046.53it/s]\n",
      "100%|███████████████████████████████████████████| 4/4 [00:00<00:00, 3311.07it/s]\n",
      "100%|███████████████████████████████████████████| 4/4 [00:00<00:00, 3194.44it/s]\n",
      "100%|███████████████████████████████████████████| 6/6 [00:00<00:00, 3740.46it/s]\n",
      "100%|███████████████████████████████████████████| 4/4 [00:00<00:00, 3316.31it/s]\n",
      "100%|███████████████████████████████████████████| 4/4 [00:00<00:00, 3309.12it/s]\n",
      "100%|███████████████████████████████████████████| 4/4 [00:00<00:00, 3289.65it/s]\n",
      "100%|███████████████████████████████████████████| 5/5 [00:00<00:00, 3140.39it/s]\n",
      "100%|███████████████████████████████████████████| 4/4 [00:00<00:00, 3338.75it/s]\n",
      "100%|███████████████████████████████████████████| 4/4 [00:00<00:00, 3280.64it/s]\n",
      "100%|███████████████████████████████████████████| 4/4 [00:00<00:00, 3289.65it/s]\n",
      "100%|███████████████████████████████████████████| 4/4 [00:00<00:00, 3223.29it/s]\n",
      "100%|███████████████████████████████████████████| 4/4 [00:00<00:00, 3259.61it/s]\n",
      "100%|███████████████████████████████████████████| 4/4 [00:00<00:00, 3225.77it/s]\n",
      "100%|███████████████████████████████████████████| 4/4 [00:00<00:00, 3257.08it/s]\n",
      "100%|███████████████████████████████████████████| 4/4 [00:00<00:00, 3639.31it/s]\n",
      "100%|███████████████████████████████████████████| 4/4 [00:00<00:00, 3352.76it/s]\n",
      "100%|███████████████████████████████████████████| 4/4 [00:00<00:00, 3383.87it/s]\n",
      "100%|███████████████████████████████████████████| 4/4 [00:00<00:00, 3241.35it/s]\n",
      "100%|███████████████████████████████████████████| 4/4 [00:00<00:00, 3360.82it/s]\n",
      "100%|███████████████████████████████████████████| 4/4 [00:00<00:00, 3352.76it/s]\n",
      "100%|███████████████████████████████████████████| 4/4 [00:00<00:00, 3264.68it/s]\n",
      "100%|███████████████████████████████████████████| 4/4 [00:00<00:00, 3000.75it/s]\n",
      "100%|███████████████████████████████████████████| 4/4 [00:00<00:00, 3364.19it/s]\n",
      "100%|█████████████████████████████████████| 1386/1386 [00:00<00:00, 1740.71it/s]\n"
     ]
    }
   ],
   "source": [
    "vest_base = do_smart_repair(vest_base, min_rook_length = 30.5)"
   ]
  },
  {
   "cell_type": "code",
   "execution_count": 31,
   "metadata": {},
   "outputs": [
    {
     "name": "stderr",
     "output_type": "stream",
     "text": [
      "100%|█████████████████████████████████████| 1386/1386 [00:00<00:00, 1519.85it/s]\n"
     ]
    },
    {
     "data": {
      "text/plain": [
       "True"
      ]
     },
     "execution_count": 31,
     "metadata": {},
     "output_type": "execute_result"
    }
   ],
   "source": [
    "maup.doctor(vest_base)"
   ]
  },
  {
   "cell_type": "code",
   "execution_count": 32,
   "metadata": {},
   "outputs": [
    {
     "name": "stderr",
     "output_type": "stream",
     "text": [
      "100%|█████████████████████████████████████| 1386/1386 [00:01<00:00, 1004.04it/s]\n",
      "100%|██████████████████████████████████████| 1386/1386 [00:04<00:00, 328.02it/s]\n"
     ]
    }
   ],
   "source": [
    "# vap and population have the same GEOID20\n",
    "blocks_to_precincts_assignment = maup.assign(population_df.geometry, vest_base.geometry)"
   ]
  },
  {
   "cell_type": "code",
   "execution_count": 33,
   "metadata": {},
   "outputs": [],
   "source": [
    "vest_base[pop_col] = population_df[pop_col].groupby(blocks_to_precincts_assignment).sum()"
   ]
  },
  {
   "cell_type": "code",
   "execution_count": 34,
   "metadata": {},
   "outputs": [],
   "source": [
    "election_df = gpd.GeoDataFrame(vest_base)"
   ]
  },
  {
   "cell_type": "code",
   "execution_count": 35,
   "metadata": {},
   "outputs": [
    {
     "data": {
      "text/plain": [
       "Index(['COUNTY', 'NAME', 'PRE20D', 'PRE20O', 'PRE20R', 'USS20D', 'USS20O',\n",
       "       'USS20R', 'geometry', 'TOTPOP', 'HISP', 'NH_WHITE', 'NH_BLACK',\n",
       "       'NH_AMIN', 'NH_ASIAN', 'NH_NHPI', 'NH_OTHER', 'NH_2MORE', 'H_WHITE',\n",
       "       'H_BLACK', 'H_AMIN', 'H_ASIAN', 'H_NHPI', 'H_OTHER', 'H_2MORE', 'VAP',\n",
       "       'HVAP', 'WVAP', 'BVAP', 'AMINVAP', 'ASIANVAP', 'NHPIVAP', 'OTHERVAP',\n",
       "       '2MOREVAP'],\n",
       "      dtype='object')"
      ]
     },
     "execution_count": 35,
     "metadata": {},
     "output_type": "execute_result"
    }
   ],
   "source": [
    "election_df.columns"
   ]
  },
  {
   "cell_type": "markdown",
   "metadata": {},
   "source": [
    "## Check if population agrees"
   ]
  },
  {
   "cell_type": "code",
   "execution_count": 37,
   "metadata": {},
   "outputs": [
    {
     "name": "stdout",
     "output_type": "stream",
     "text": [
      "population agrees\n"
     ]
    }
   ],
   "source": [
    "check_population(population_df, vest_base)"
   ]
  },
  {
   "cell_type": "markdown",
   "metadata": {},
   "source": [
    "## Add more vest data"
   ]
  },
  {
   "cell_type": "code",
   "execution_count": 39,
   "metadata": {},
   "outputs": [],
   "source": [
    "vest18 = gpd.read_file(vest18_data)\n",
    "vest16 = gpd.read_file(vest16_data)"
   ]
  },
  {
   "cell_type": "code",
   "execution_count": 40,
   "metadata": {},
   "outputs": [
    {
     "data": {
      "text/plain": [
       "Index(['COUNTYFP', 'NAMELSAD', 'G18USSRFIS', 'G18USSDRAY', 'G18USSLSCH',\n",
       "       'G18GOVRRIC', 'G18GOVDKRI', 'G18SOSREVN', 'G18SOSDDAN', 'G18TRERMUR',\n",
       "       'G18ATGRPET', 'G18AUDRJAN', 'G18AUDDSKI', 'geometry'],\n",
       "      dtype='object')"
      ]
     },
     "execution_count": 40,
     "metadata": {},
     "output_type": "execute_result"
    }
   ],
   "source": [
    "vest18.columns"
   ]
  },
  {
   "cell_type": "code",
   "execution_count": 41,
   "metadata": {},
   "outputs": [
    {
     "data": {
      "text/plain": [
       "Index(['COUNTYFP', 'NAMELSAD', 'G16PRERTRU', 'G16PREDCLI', 'G16PRELJOH',\n",
       "       'G16PREGSTE', 'geometry'],\n",
       "      dtype='object')"
      ]
     },
     "execution_count": 41,
     "metadata": {},
     "output_type": "execute_result"
    }
   ],
   "source": [
    "vest16.columns"
   ]
  },
  {
   "cell_type": "code",
   "execution_count": 42,
   "metadata": {},
   "outputs": [
    {
     "name": "stderr",
     "output_type": "stream",
     "text": [
      "100%|█████████████████████████████████████| 1387/1387 [00:00<00:00, 1477.06it/s]\n"
     ]
    },
    {
     "name": "stdout",
     "output_type": "stream",
     "text": [
      "There are 729 overlaps.\n",
      "There are 2811 holes.\n",
      "There are some invalid geometries.\n",
      "Snapping all geometries to a grid with precision 10^( -5 ) to avoid GEOS errors.\n",
      "Identifying overlaps...\n"
     ]
    },
    {
     "name": "stderr",
     "output_type": "stream",
     "text": [
      "100%|█████████████████████████████████████| 2883/2883 [00:00<00:00, 6343.26it/s]\n"
     ]
    },
    {
     "name": "stdout",
     "output_type": "stream",
     "text": [
      "Resolving overlaps...\n",
      "Assigning order 2 pieces...\n",
      "Filling gaps...\n"
     ]
    },
    {
     "name": "stderr",
     "output_type": "stream",
     "text": [
      "Gaps to simplify: 100%|███████████████████████| 687/687 [00:35<00:00, 19.44it/s]\n",
      "Gaps to fill: 100%|███████████████████████████| 100/100 [00:10<00:00,  9.70it/s]\n",
      "100%|█████████████████████████████████████| 1387/1387 [00:00<00:00, 1801.97it/s]\n",
      "100%|██████████████████████████████████████| 1387/1387 [00:01<00:00, 984.81it/s]\n",
      "100%|██████████████████████████████████████| 1387/1387 [00:04<00:00, 333.07it/s]\n",
      "100%|█████████████████████████████████████| 1386/1386 [00:01<00:00, 1007.49it/s]\n",
      "100%|██████████████████████████████████████| 1386/1386 [00:04<00:00, 312.52it/s]\n"
     ]
    },
    {
     "name": "stdout",
     "output_type": "stream",
     "text": [
      "population agrees\n"
     ]
    }
   ],
   "source": [
    "# check the result here\n",
    "election_df = add_vest(vest18, election_df, '18', population_df, 2)"
   ]
  },
  {
   "cell_type": "code",
   "execution_count": 43,
   "metadata": {},
   "outputs": [
    {
     "data": {
      "text/plain": [
       "Index(['2MOREVAP', 'AMINVAP', 'ASIANVAP', 'ATG18R', 'AUD18D', 'AUD18R', 'BVAP',\n",
       "       'COUNTY', 'GOV18D', 'GOV18R', 'HISP', 'HVAP', 'H_2MORE', 'H_AMIN',\n",
       "       'H_ASIAN', 'H_BLACK', 'H_NHPI', 'H_OTHER', 'H_WHITE', 'NAME', 'NHPIVAP',\n",
       "       'NH_2MORE', 'NH_AMIN', 'NH_ASIAN', 'NH_BLACK', 'NH_NHPI', 'NH_OTHER',\n",
       "       'NH_WHITE', 'OTHERVAP', 'PRE20D', 'PRE20O', 'PRE20R', 'SOS18D',\n",
       "       'SOS18R', 'TOTPOP', 'TRE18R', 'USS18D', 'USS18O', 'USS18R', 'USS20D',\n",
       "       'USS20O', 'USS20R', 'VAP', 'WVAP', 'geometry'],\n",
       "      dtype='object')"
      ]
     },
     "execution_count": 43,
     "metadata": {},
     "output_type": "execute_result"
    }
   ],
   "source": [
    "election_df.columns"
   ]
  },
  {
   "cell_type": "code",
   "execution_count": 44,
   "metadata": {},
   "outputs": [
    {
     "name": "stderr",
     "output_type": "stream",
     "text": [
      "100%|█████████████████████████████████████| 1375/1375 [00:00<00:00, 1602.87it/s]\n"
     ]
    },
    {
     "name": "stdout",
     "output_type": "stream",
     "text": [
      "There are 853 overlaps.\n",
      "There are 718 holes.\n",
      "There are some invalid geometries.\n",
      "Snapping all geometries to a grid with precision 10^( -5 ) to avoid GEOS errors.\n",
      "Identifying overlaps...\n"
     ]
    },
    {
     "name": "stderr",
     "output_type": "stream",
     "text": [
      "100%|█████████████████████████████████████| 3147/3147 [00:00<00:00, 5848.65it/s]\n"
     ]
    },
    {
     "name": "stdout",
     "output_type": "stream",
     "text": [
      "Resolving overlaps...\n",
      "Assigning order 2 pieces...\n",
      "Filling gaps...\n"
     ]
    },
    {
     "name": "stderr",
     "output_type": "stream",
     "text": [
      "Gaps to simplify: 100%|███████████████████████| 809/809 [00:41<00:00, 19.29it/s]\n",
      "Gaps to fill: 100%|███████████████████████████| 141/141 [00:12<00:00, 10.88it/s]\n",
      "100%|█████████████████████████████████████| 1375/1375 [00:00<00:00, 1573.54it/s]\n",
      "100%|██████████████████████████████████████| 1375/1375 [00:01<00:00, 936.80it/s]\n",
      "100%|██████████████████████████████████████| 1375/1375 [00:04<00:00, 307.05it/s]\n",
      "100%|██████████████████████████████████████| 1386/1386 [00:01<00:00, 982.39it/s]\n",
      "100%|██████████████████████████████████████| 1386/1386 [00:04<00:00, 305.87it/s]\n"
     ]
    },
    {
     "name": "stdout",
     "output_type": "stream",
     "text": [
      "population agrees\n"
     ]
    }
   ],
   "source": [
    "election_df = add_vest(vest16, election_df, '16', population_df, 2)"
   ]
  },
  {
   "cell_type": "markdown",
   "metadata": {},
   "source": [
    "##  Add the district data"
   ]
  },
  {
   "cell_type": "code",
   "execution_count": 46,
   "metadata": {},
   "outputs": [],
   "source": [
    "legis = gpd.read_file(legis_data)\n",
    "legis = legis.to_crs(legis.estimate_utm_crs())\n",
    "cong_df = gpd.read_file(cd_data)\n",
    "cong_df = cong_df.to_crs(cong_df.estimate_utm_crs())"
   ]
  },
  {
   "cell_type": "code",
   "execution_count": 47,
   "metadata": {},
   "outputs": [
    {
     "data": {
      "text/html": [
       "<div>\n",
       "<style scoped>\n",
       "    .dataframe tbody tr th:only-of-type {\n",
       "        vertical-align: middle;\n",
       "    }\n",
       "\n",
       "    .dataframe tbody tr th {\n",
       "        vertical-align: top;\n",
       "    }\n",
       "\n",
       "    .dataframe thead th {\n",
       "        text-align: right;\n",
       "    }\n",
       "</style>\n",
       "<table border=\"1\" class=\"dataframe\">\n",
       "  <thead>\n",
       "    <tr style=\"text-align: right;\">\n",
       "      <th></th>\n",
       "      <th>ID</th>\n",
       "      <th>AREA</th>\n",
       "      <th>DISTRICT</th>\n",
       "      <th>MEMBERS</th>\n",
       "      <th>LOCKED</th>\n",
       "      <th>NAME</th>\n",
       "      <th>POPULATION</th>\n",
       "      <th>WHITE</th>\n",
       "      <th>BLACK</th>\n",
       "      <th>AMINDIAN</th>\n",
       "      <th>...</th>\n",
       "      <th>F_18_WHT</th>\n",
       "      <th>F_18_BLK</th>\n",
       "      <th>F_18_IND</th>\n",
       "      <th>F_18_ASN</th>\n",
       "      <th>F_18_HWN</th>\n",
       "      <th>F_18_OTH</th>\n",
       "      <th>F_18_WHTBL</th>\n",
       "      <th>F_H18_POP</th>\n",
       "      <th>DISTRICT_L</th>\n",
       "      <th>geometry</th>\n",
       "    </tr>\n",
       "  </thead>\n",
       "  <tbody>\n",
       "    <tr>\n",
       "      <th>0</th>\n",
       "      <td>2</td>\n",
       "      <td>6044.91455</td>\n",
       "      <td>1</td>\n",
       "      <td>1.0</td>\n",
       "      <td>None</td>\n",
       "      <td>None</td>\n",
       "      <td>653822</td>\n",
       "      <td>525662</td>\n",
       "      <td>22362</td>\n",
       "      <td>5330</td>\n",
       "      <td>...</td>\n",
       "      <td>0.628795</td>\n",
       "      <td>0.024098</td>\n",
       "      <td>0.005676</td>\n",
       "      <td>0.022560</td>\n",
       "      <td>0.000566</td>\n",
       "      <td>0.032114</td>\n",
       "      <td>0.004234</td>\n",
       "      <td>0.067959</td>\n",
       "      <td>1|-0%</td>\n",
       "      <td>POLYGON ((767143.719 4519579.029, 767030.654 4...</td>\n",
       "    </tr>\n",
       "    <tr>\n",
       "      <th>1</th>\n",
       "      <td>5</td>\n",
       "      <td>69945.20310</td>\n",
       "      <td>3</td>\n",
       "      <td>1.0</td>\n",
       "      <td>None</td>\n",
       "      <td>None</td>\n",
       "      <td>653835</td>\n",
       "      <td>551139</td>\n",
       "      <td>8818</td>\n",
       "      <td>11776</td>\n",
       "      <td>...</td>\n",
       "      <td>0.656814</td>\n",
       "      <td>0.009232</td>\n",
       "      <td>0.011319</td>\n",
       "      <td>0.006110</td>\n",
       "      <td>0.000531</td>\n",
       "      <td>0.037113</td>\n",
       "      <td>0.001672</td>\n",
       "      <td>0.075788</td>\n",
       "      <td>3|0%</td>\n",
       "      <td>POLYGON ((767143.719 4519579.029, 767143.757 4...</td>\n",
       "    </tr>\n",
       "    <tr>\n",
       "      <th>2</th>\n",
       "      <td>11</td>\n",
       "      <td>1247.30603</td>\n",
       "      <td>2</td>\n",
       "      <td>1.0</td>\n",
       "      <td>None</td>\n",
       "      <td>None</td>\n",
       "      <td>653847</td>\n",
       "      <td>461251</td>\n",
       "      <td>65355</td>\n",
       "      <td>5996</td>\n",
       "      <td>...</td>\n",
       "      <td>0.548560</td>\n",
       "      <td>0.069285</td>\n",
       "      <td>0.006093</td>\n",
       "      <td>0.031232</td>\n",
       "      <td>0.000575</td>\n",
       "      <td>0.037547</td>\n",
       "      <td>0.004882</td>\n",
       "      <td>0.078476</td>\n",
       "      <td>2|0%</td>\n",
       "      <td>POLYGON ((742163.010 4547037.263, 742118.716 4...</td>\n",
       "    </tr>\n",
       "  </tbody>\n",
       "</table>\n",
       "<p>3 rows × 47 columns</p>\n",
       "</div>"
      ],
      "text/plain": [
       "   ID         AREA DISTRICT  MEMBERS LOCKED  NAME  POPULATION   WHITE  BLACK  \\\n",
       "0   2   6044.91455        1      1.0   None  None      653822  525662  22362   \n",
       "1   5  69945.20310        3      1.0   None  None      653835  551139   8818   \n",
       "2  11   1247.30603        2      1.0   None  None      653847  461251  65355   \n",
       "\n",
       "   AMINDIAN  ...  F_18_WHT  F_18_BLK  F_18_IND  F_18_ASN  F_18_HWN  F_18_OTH  \\\n",
       "0      5330  ...  0.628795  0.024098  0.005676  0.022560  0.000566  0.032114   \n",
       "1     11776  ...  0.656814  0.009232  0.011319  0.006110  0.000531  0.037113   \n",
       "2      5996  ...  0.548560  0.069285  0.006093  0.031232  0.000575  0.037547   \n",
       "\n",
       "   F_18_WHTBL  F_H18_POP  DISTRICT_L  \\\n",
       "0    0.004234   0.067959       1|-0%   \n",
       "1    0.001672   0.075788        3|0%   \n",
       "2    0.004882   0.078476        2|0%   \n",
       "\n",
       "                                            geometry  \n",
       "0  POLYGON ((767143.719 4519579.029, 767030.654 4...  \n",
       "1  POLYGON ((767143.719 4519579.029, 767143.757 4...  \n",
       "2  POLYGON ((742163.010 4547037.263, 742118.716 4...  \n",
       "\n",
       "[3 rows x 47 columns]"
      ]
     },
     "execution_count": 47,
     "metadata": {},
     "output_type": "execute_result"
    }
   ],
   "source": [
    "cong_df.head()"
   ]
  },
  {
   "cell_type": "code",
   "execution_count": 48,
   "metadata": {},
   "outputs": [
    {
     "name": "stderr",
     "output_type": "stream",
     "text": [
      "100%|████████████████████████████████████████████| 3/3 [00:00<00:00, 127.32it/s]\n",
      "100%|████████████████████████████████████████████| 3/3 [00:00<00:00, 114.68it/s]\n",
      "100%|█████████████████████████████████████████████| 3/3 [00:00<00:00, 13.24it/s]\n"
     ]
    }
   ],
   "source": [
    "election_df = add_district(cong_df, \"CD\", election_df, \"DISTRICT\")"
   ]
  },
  {
   "cell_type": "code",
   "execution_count": 49,
   "metadata": {},
   "outputs": [
    {
     "data": {
      "text/html": [
       "<div>\n",
       "<style scoped>\n",
       "    .dataframe tbody tr th:only-of-type {\n",
       "        vertical-align: middle;\n",
       "    }\n",
       "\n",
       "    .dataframe tbody tr th {\n",
       "        vertical-align: top;\n",
       "    }\n",
       "\n",
       "    .dataframe thead th {\n",
       "        text-align: right;\n",
       "    }\n",
       "</style>\n",
       "<table border=\"1\" class=\"dataframe\">\n",
       "  <thead>\n",
       "    <tr style=\"text-align: right;\">\n",
       "      <th></th>\n",
       "      <th>ID</th>\n",
       "      <th>AREA</th>\n",
       "      <th>DISTRICT</th>\n",
       "      <th>MEMBERS</th>\n",
       "      <th>LOCKED</th>\n",
       "      <th>NAME</th>\n",
       "      <th>POPULATION</th>\n",
       "      <th>F18_POP</th>\n",
       "      <th>F18_WHT</th>\n",
       "      <th>H18_POP</th>\n",
       "      <th>...</th>\n",
       "      <th>F_INGRP_C1</th>\n",
       "      <th>F_INGRP_MI</th>\n",
       "      <th>F_WHITE</th>\n",
       "      <th>F_BLACK</th>\n",
       "      <th>F_AMINDIAN</th>\n",
       "      <th>F_ASIAN</th>\n",
       "      <th>F_HAWAIIAN</th>\n",
       "      <th>F_OTHER</th>\n",
       "      <th>DISTRICT_L</th>\n",
       "      <th>geometry</th>\n",
       "    </tr>\n",
       "  </thead>\n",
       "  <tbody>\n",
       "    <tr>\n",
       "      <th>0</th>\n",
       "      <td>2</td>\n",
       "      <td>2440.800530</td>\n",
       "      <td>48</td>\n",
       "      <td>1.0</td>\n",
       "      <td>None</td>\n",
       "      <td>None</td>\n",
       "      <td>40192</td>\n",
       "      <td>30644</td>\n",
       "      <td>25097</td>\n",
       "      <td>5458</td>\n",
       "      <td>...</td>\n",
       "      <td>None</td>\n",
       "      <td>None</td>\n",
       "      <td>None</td>\n",
       "      <td>None</td>\n",
       "      <td>None</td>\n",
       "      <td>None</td>\n",
       "      <td>None</td>\n",
       "      <td>None</td>\n",
       "      <td>48|0.4%</td>\n",
       "      <td>POLYGON ((74945.766 4551227.862, 75052.689 455...</td>\n",
       "    </tr>\n",
       "    <tr>\n",
       "      <th>1</th>\n",
       "      <td>3</td>\n",
       "      <td>43.908894</td>\n",
       "      <td>27</td>\n",
       "      <td>1.0</td>\n",
       "      <td>None</td>\n",
       "      <td>None</td>\n",
       "      <td>41511</td>\n",
       "      <td>31725</td>\n",
       "      <td>23630</td>\n",
       "      <td>3680</td>\n",
       "      <td>...</td>\n",
       "      <td>None</td>\n",
       "      <td>None</td>\n",
       "      <td>None</td>\n",
       "      <td>None</td>\n",
       "      <td>None</td>\n",
       "      <td>None</td>\n",
       "      <td>None</td>\n",
       "      <td>None</td>\n",
       "      <td>27|3.7%</td>\n",
       "      <td>POLYGON ((693679.842 4516255.409, 693778.709 4...</td>\n",
       "    </tr>\n",
       "    <tr>\n",
       "      <th>2</th>\n",
       "      <td>11</td>\n",
       "      <td>74.194702</td>\n",
       "      <td>25</td>\n",
       "      <td>1.0</td>\n",
       "      <td>None</td>\n",
       "      <td>None</td>\n",
       "      <td>41582</td>\n",
       "      <td>31328</td>\n",
       "      <td>28319</td>\n",
       "      <td>896</td>\n",
       "      <td>...</td>\n",
       "      <td>None</td>\n",
       "      <td>None</td>\n",
       "      <td>None</td>\n",
       "      <td>None</td>\n",
       "      <td>None</td>\n",
       "      <td>None</td>\n",
       "      <td>None</td>\n",
       "      <td>None</td>\n",
       "      <td>25|3.87%</td>\n",
       "      <td>POLYGON ((698847.832 4514198.831, 698847.733 4...</td>\n",
       "    </tr>\n",
       "    <tr>\n",
       "      <th>3</th>\n",
       "      <td>17</td>\n",
       "      <td>10.333652</td>\n",
       "      <td>29</td>\n",
       "      <td>1.0</td>\n",
       "      <td>None</td>\n",
       "      <td>None</td>\n",
       "      <td>40661</td>\n",
       "      <td>31944</td>\n",
       "      <td>27793</td>\n",
       "      <td>1690</td>\n",
       "      <td>...</td>\n",
       "      <td>None</td>\n",
       "      <td>None</td>\n",
       "      <td>None</td>\n",
       "      <td>None</td>\n",
       "      <td>None</td>\n",
       "      <td>None</td>\n",
       "      <td>None</td>\n",
       "      <td>None</td>\n",
       "      <td>29|1.57%</td>\n",
       "      <td>POLYGON ((694740.227 4517392.861, 694773.225 4...</td>\n",
       "    </tr>\n",
       "    <tr>\n",
       "      <th>4</th>\n",
       "      <td>20</td>\n",
       "      <td>6.695273</td>\n",
       "      <td>28</td>\n",
       "      <td>1.0</td>\n",
       "      <td>None</td>\n",
       "      <td>None</td>\n",
       "      <td>39692</td>\n",
       "      <td>31436</td>\n",
       "      <td>24336</td>\n",
       "      <td>2701</td>\n",
       "      <td>...</td>\n",
       "      <td>None</td>\n",
       "      <td>None</td>\n",
       "      <td>None</td>\n",
       "      <td>None</td>\n",
       "      <td>None</td>\n",
       "      <td>None</td>\n",
       "      <td>None</td>\n",
       "      <td>None</td>\n",
       "      <td>28|-0.85%</td>\n",
       "      <td>POLYGON ((695522.349 4518220.053, 695533.828 4...</td>\n",
       "    </tr>\n",
       "  </tbody>\n",
       "</table>\n",
       "<p>5 rows × 51 columns</p>\n",
       "</div>"
      ],
      "text/plain": [
       "   ID         AREA DISTRICT  MEMBERS LOCKED  NAME  POPULATION  F18_POP  \\\n",
       "0   2  2440.800530       48      1.0   None  None       40192    30644   \n",
       "1   3    43.908894       27      1.0   None  None       41511    31725   \n",
       "2  11    74.194702       25      1.0   None  None       41582    31328   \n",
       "3  17    10.333652       29      1.0   None  None       40661    31944   \n",
       "4  20     6.695273       28      1.0   None  None       39692    31436   \n",
       "\n",
       "   F18_WHT  H18_POP  ...  F_INGRP_C1  F_INGRP_MI  F_WHITE  F_BLACK  \\\n",
       "0    25097     5458  ...        None        None     None     None   \n",
       "1    23630     3680  ...        None        None     None     None   \n",
       "2    28319      896  ...        None        None     None     None   \n",
       "3    27793     1690  ...        None        None     None     None   \n",
       "4    24336     2701  ...        None        None     None     None   \n",
       "\n",
       "   F_AMINDIAN  F_ASIAN  F_HAWAIIAN  F_OTHER  DISTRICT_L  \\\n",
       "0        None     None        None     None     48|0.4%   \n",
       "1        None     None        None     None     27|3.7%   \n",
       "2        None     None        None     None    25|3.87%   \n",
       "3        None     None        None     None    29|1.57%   \n",
       "4        None     None        None     None   28|-0.85%   \n",
       "\n",
       "                                            geometry  \n",
       "0  POLYGON ((74945.766 4551227.862, 75052.689 455...  \n",
       "1  POLYGON ((693679.842 4516255.409, 693778.709 4...  \n",
       "2  POLYGON ((698847.832 4514198.831, 698847.733 4...  \n",
       "3  POLYGON ((694740.227 4517392.861, 694773.225 4...  \n",
       "4  POLYGON ((695522.349 4518220.053, 695533.828 4...  \n",
       "\n",
       "[5 rows x 51 columns]"
      ]
     },
     "execution_count": 49,
     "metadata": {},
     "output_type": "execute_result"
    }
   ],
   "source": [
    "legis.head()"
   ]
  },
  {
   "cell_type": "code",
   "execution_count": 50,
   "metadata": {},
   "outputs": [
    {
     "name": "stderr",
     "output_type": "stream",
     "text": [
      "100%|██████████████████████████████████████████| 49/49 [00:00<00:00, 442.19it/s]\n",
      "100%|█████████████████████████████████████████| 49/49 [00:00<00:00, 1155.83it/s]\n",
      "100%|██████████████████████████████████████████| 49/49 [00:00<00:00, 109.52it/s]\n"
     ]
    }
   ],
   "source": [
    "election_df = add_district(legis, \"SEND\", election_df, \"DISTRICT\")"
   ]
  },
  {
   "cell_type": "code",
   "execution_count": 51,
   "metadata": {},
   "outputs": [
    {
     "data": {
      "text/plain": [
       "Index(['2MOREVAP', 'AMINVAP', 'ASIANVAP', 'ATG18R', 'AUD18D', 'AUD18R', 'BVAP',\n",
       "       'COUNTY', 'GOV18D', 'GOV18R', 'HISP', 'HVAP', 'H_2MORE', 'H_AMIN',\n",
       "       'H_ASIAN', 'H_BLACK', 'H_NHPI', 'H_OTHER', 'H_WHITE', 'NAME', 'NHPIVAP',\n",
       "       'NH_2MORE', 'NH_AMIN', 'NH_ASIAN', 'NH_BLACK', 'NH_NHPI', 'NH_OTHER',\n",
       "       'NH_WHITE', 'OTHERVAP', 'PRE16D', 'PRE16O', 'PRE16R', 'PRE20D',\n",
       "       'PRE20O', 'PRE20R', 'SOS18D', 'SOS18R', 'TOTPOP', 'TRE18R', 'USS18D',\n",
       "       'USS18O', 'USS18R', 'USS20D', 'USS20O', 'USS20R', 'VAP', 'WVAP',\n",
       "       'geometry', 'CD', 'SEND'],\n",
       "      dtype='object')"
      ]
     },
     "execution_count": 51,
     "metadata": {},
     "output_type": "execute_result"
    }
   ],
   "source": [
    "election_df.columns"
   ]
  },
  {
   "cell_type": "markdown",
   "metadata": {},
   "source": [
    "### Put the base precinct year after the precinct information column"
   ]
  },
  {
   "cell_type": "code",
   "execution_count": 53,
   "metadata": {},
   "outputs": [],
   "source": [
    "base_columns = {}\n",
    "if 'COUNTYFP' + year not in election_df.columns:\n",
    "    base_columns = {\n",
    "        'COUNTY':'COUNTY'+year,\n",
    "        'NAME':'NAME'+year}\n",
    "election_df.rename(columns=base_columns, inplace = True)"
   ]
  },
  {
   "cell_type": "code",
   "execution_count": 54,
   "metadata": {},
   "outputs": [
    {
     "data": {
      "text/plain": [
       "Index(['2MOREVAP', 'AMINVAP', 'ASIANVAP', 'ATG18R', 'AUD18D', 'AUD18R', 'BVAP',\n",
       "       'COUNTY20', 'GOV18D', 'GOV18R', 'HISP', 'HVAP', 'H_2MORE', 'H_AMIN',\n",
       "       'H_ASIAN', 'H_BLACK', 'H_NHPI', 'H_OTHER', 'H_WHITE', 'NAME20',\n",
       "       'NHPIVAP', 'NH_2MORE', 'NH_AMIN', 'NH_ASIAN', 'NH_BLACK', 'NH_NHPI',\n",
       "       'NH_OTHER', 'NH_WHITE', 'OTHERVAP', 'PRE16D', 'PRE16O', 'PRE16R',\n",
       "       'PRE20D', 'PRE20O', 'PRE20R', 'SOS18D', 'SOS18R', 'TOTPOP', 'TRE18R',\n",
       "       'USS18D', 'USS18O', 'USS18R', 'USS20D', 'USS20O', 'USS20R', 'VAP',\n",
       "       'WVAP', 'geometry', 'CD', 'SEND'],\n",
       "      dtype='object')"
      ]
     },
     "execution_count": 54,
     "metadata": {},
     "output_type": "execute_result"
    }
   ],
   "source": [
    "election_df.columns"
   ]
  },
  {
   "cell_type": "code",
   "execution_count": 55,
   "metadata": {},
   "outputs": [],
   "source": [
    "# reorder the columns\n",
    "fixed_columns = [\n",
    "    'COUNTY'+year,\n",
    "    'NAME'+year,\n",
    "    'CD',\n",
    "    'SEND',\n",
    "    'TOTPOP',\n",
    "    'NH_2MORE',\n",
    "    'NH_AMIN',\n",
    "    'NH_ASIAN',\n",
    "    'NH_BLACK',\n",
    "    'NH_NHPI',\n",
    "    'NH_OTHER',\n",
    "    'NH_WHITE',\n",
    "    'HISP',\n",
    "    'H_AMIN',\n",
    "    'H_ASIAN',\n",
    "    'H_BLACK',\n",
    "    'H_NHPI',\n",
    "    'H_OTHER',\n",
    "    'H_WHITE',\n",
    "    'H_2MORE',\n",
    "    'VAP',\n",
    "    'HVAP',\n",
    "    'WVAP',\n",
    "    'BVAP',\n",
    "    'AMINVAP',\n",
    "    'ASIANVAP',\n",
    "    'NHPIVAP',\n",
    "    'OTHERVAP',\n",
    "    '2MOREVAP']\n",
    "\n",
    "election_columns = [col for col in election_df.columns if col not in fixed_columns]\n",
    "final_col = fixed_columns + election_columns\n",
    "election_df = election_df[final_col]"
   ]
  },
  {
   "cell_type": "code",
   "execution_count": 56,
   "metadata": {},
   "outputs": [],
   "source": [
    "import os\n",
    "\n",
    "# store the result in directory \"il\"\n",
    "directory = \"./{}\".format(state_ab)\n",
    "if not os.path.exists(directory):\n",
    "    os.makedirs(directory)\n",
    "\n",
    "shapefile_path = \"./{}/{}.shp\".format(state_ab, state_ab)\n",
    "geojson_path = './{}/{}.geojson'.format(state_ab, state_ab)\n",
    "json_path = \"./{}.json\".format(state_ab, state_ab)\n",
    "\n",
    "# Check if the shapefile or geojson file already exists\n",
    "if os.path.exists(shapefile_path):\n",
    "    os.remove(shapefile_path)\n",
    "if os.path.exists(geojson_path):\n",
    "    os.remove(geojson_path)\n",
    "\n",
    "election_df.to_file(shapefile_path)\n",
    "election_df.to_file(geojson_path, driver='GeoJSON')\n",
    "\n",
    "# Only do once to build json and read from file when generating ensembles\n",
    "graph = Graph.from_file(shapefile_path, ignore_errors=True)\n",
    "graph.to_json(json_path)"
   ]
  },
  {
   "cell_type": "code",
   "execution_count": 57,
   "metadata": {},
   "outputs": [
    {
     "data": {
      "text/plain": [
       "<Axes: >"
      ]
     },
     "execution_count": 57,
     "metadata": {},
     "output_type": "execute_result"
    },
    {
     "data": {
      "image/png": "[encoded data removed]",
      "text/plain": [
       "<Figure size 640x480 with 1 Axes>"
      ]
     },
     "metadata": {},
     "output_type": "display_data"
    }
   ],
   "source": [
    "shapefile_path = \"./{}/{}.shp\".format(state_ab, state_ab)\n",
    "shape=gpd.read_file(shapefile_path)\n",
    "shape.plot()"
   ]
  },
  {
   "cell_type": "code",
   "execution_count": 107,
   "metadata": {},
   "outputs": [
    {
     "data": {
      "text/plain": [
       "50"
      ]
     },
     "execution_count": 107,
     "metadata": {},
     "output_type": "execute_result"
    }
   ],
   "source": [
    "len(election_df.columns)"
   ]
  },
  {
   "cell_type": "code",
   "execution_count": null,
   "metadata": {},
   "outputs": [],
   "source": []
  }
 ],
 "metadata": {
  "kernelspec": {
   "display_name": "gerry",
   "language": "python",
   "name": "gerry"
  },
  "language_info": {
   "codemirror_mode": {
    "name": "ipython",
    "version": 3
   },
   "file_extension": ".py",
   "mimetype": "text/x-python",
   "name": "python",
   "nbconvert_exporter": "python",
   "pygments_lexer": "ipython3",
   "version": "3.11.4"
  }
 },
 "nbformat": 4,
 "nbformat_minor": 4
}
